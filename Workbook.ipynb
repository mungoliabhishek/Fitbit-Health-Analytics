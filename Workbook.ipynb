{
 "cells": [
  {
   "cell_type": "code",
   "execution_count": 513,
   "metadata": {},
   "outputs": [],
   "source": [
    "import re\n",
    "import pandas as pd\n",
    "import numpy as np\n",
    "# from mlutils import dataset, connector\n",
    "import scipy.stats\n",
    "from scipy.stats import *\n",
    "from sklearn.preprocessing import StandardScaler\n",
    "import math\n",
    "import seaborn as sns\n",
    "import matplotlib.pyplot as plt\n",
    "import warnings\n",
    "from pandasql import sqldf\n",
    "warnings.filterwarnings('ignore')\n",
    "%matplotlib inline"
   ]
  },
  {
   "cell_type": "code",
   "execution_count": 514,
   "metadata": {},
   "outputs": [],
   "source": [
    "df_exercise = pd.read_csv('Exercise_data.csv')"
   ]
  },
  {
   "cell_type": "code",
   "execution_count": 515,
   "metadata": {},
   "outputs": [
    {
     "data": {
      "text/html": [
       "<div>\n",
       "<style scoped>\n",
       "    .dataframe tbody tr th:only-of-type {\n",
       "        vertical-align: middle;\n",
       "    }\n",
       "\n",
       "    .dataframe tbody tr th {\n",
       "        vertical-align: top;\n",
       "    }\n",
       "\n",
       "    .dataframe thead th {\n",
       "        text-align: right;\n",
       "    }\n",
       "</style>\n",
       "<table border=\"1\" class=\"dataframe\">\n",
       "  <thead>\n",
       "    <tr style=\"text-align: right;\">\n",
       "      <th></th>\n",
       "      <th>Date</th>\n",
       "      <th>Calories Burned</th>\n",
       "      <th>Steps</th>\n",
       "      <th>Distance</th>\n",
       "      <th>Floors</th>\n",
       "      <th>Minutes Sedentary</th>\n",
       "      <th>Minutes Lightly Active</th>\n",
       "      <th>Minutes Fairly Active</th>\n",
       "      <th>Minutes Very Active</th>\n",
       "      <th>Activity Calories</th>\n",
       "    </tr>\n",
       "  </thead>\n",
       "  <tbody>\n",
       "    <tr>\n",
       "      <td>0</td>\n",
       "      <td>01/01/20</td>\n",
       "      <td>1,528</td>\n",
       "      <td>0</td>\n",
       "      <td>0.0</td>\n",
       "      <td>0</td>\n",
       "      <td>1,440</td>\n",
       "      <td>0</td>\n",
       "      <td>0</td>\n",
       "      <td>0</td>\n",
       "      <td>0</td>\n",
       "    </tr>\n",
       "    <tr>\n",
       "      <td>1</td>\n",
       "      <td>02/01/20</td>\n",
       "      <td>1,528</td>\n",
       "      <td>0</td>\n",
       "      <td>0.0</td>\n",
       "      <td>0</td>\n",
       "      <td>1,440</td>\n",
       "      <td>0</td>\n",
       "      <td>0</td>\n",
       "      <td>0</td>\n",
       "      <td>0</td>\n",
       "    </tr>\n",
       "    <tr>\n",
       "      <td>2</td>\n",
       "      <td>03/01/20</td>\n",
       "      <td>1,528</td>\n",
       "      <td>0</td>\n",
       "      <td>0.0</td>\n",
       "      <td>0</td>\n",
       "      <td>1,440</td>\n",
       "      <td>0</td>\n",
       "      <td>0</td>\n",
       "      <td>0</td>\n",
       "      <td>0</td>\n",
       "    </tr>\n",
       "    <tr>\n",
       "      <td>3</td>\n",
       "      <td>04/01/20</td>\n",
       "      <td>1,528</td>\n",
       "      <td>0</td>\n",
       "      <td>0.0</td>\n",
       "      <td>0</td>\n",
       "      <td>1,440</td>\n",
       "      <td>0</td>\n",
       "      <td>0</td>\n",
       "      <td>0</td>\n",
       "      <td>0</td>\n",
       "    </tr>\n",
       "    <tr>\n",
       "      <td>4</td>\n",
       "      <td>05/01/20</td>\n",
       "      <td>1,528</td>\n",
       "      <td>0</td>\n",
       "      <td>0.0</td>\n",
       "      <td>0</td>\n",
       "      <td>1,440</td>\n",
       "      <td>0</td>\n",
       "      <td>0</td>\n",
       "      <td>0</td>\n",
       "      <td>0</td>\n",
       "    </tr>\n",
       "  </tbody>\n",
       "</table>\n",
       "</div>"
      ],
      "text/plain": [
       "       Date Calories Burned Steps  Distance  Floors Minutes Sedentary  \\\n",
       "0  01/01/20           1,528     0       0.0       0             1,440   \n",
       "1  02/01/20           1,528     0       0.0       0             1,440   \n",
       "2  03/01/20           1,528     0       0.0       0             1,440   \n",
       "3  04/01/20           1,528     0       0.0       0             1,440   \n",
       "4  05/01/20           1,528     0       0.0       0             1,440   \n",
       "\n",
       "   Minutes Lightly Active  Minutes Fairly Active  Minutes Very Active  \\\n",
       "0                       0                      0                    0   \n",
       "1                       0                      0                    0   \n",
       "2                       0                      0                    0   \n",
       "3                       0                      0                    0   \n",
       "4                       0                      0                    0   \n",
       "\n",
       "  Activity Calories  \n",
       "0                 0  \n",
       "1                 0  \n",
       "2                 0  \n",
       "3                 0  \n",
       "4                 0  "
      ]
     },
     "execution_count": 515,
     "metadata": {},
     "output_type": "execute_result"
    }
   ],
   "source": [
    "df_exercise.head()"
   ]
  },
  {
   "cell_type": "code",
   "execution_count": 516,
   "metadata": {},
   "outputs": [
    {
     "data": {
      "text/plain": [
       "Date                       object\n",
       "Calories Burned            object\n",
       "Steps                      object\n",
       "Distance                  float64\n",
       "Floors                      int64\n",
       "Minutes Sedentary          object\n",
       "Minutes Lightly Active      int64\n",
       "Minutes Fairly Active       int64\n",
       "Minutes Very Active         int64\n",
       "Activity Calories          object\n",
       "dtype: object"
      ]
     },
     "execution_count": 516,
     "metadata": {},
     "output_type": "execute_result"
    }
   ],
   "source": [
    "df_exercise.dtypes"
   ]
  },
  {
   "cell_type": "code",
   "execution_count": 517,
   "metadata": {},
   "outputs": [],
   "source": [
    "df_exercise['Steps'] = df_exercise['Steps'].apply(lambda a : int(a.replace(',', '')))"
   ]
  },
  {
   "cell_type": "code",
   "execution_count": 518,
   "metadata": {},
   "outputs": [],
   "source": [
    "df_exercise['Calories Burned'] = df_exercise['Calories Burned'].apply(lambda a : int(a.replace(',', '')))"
   ]
  },
  {
   "cell_type": "code",
   "execution_count": 519,
   "metadata": {},
   "outputs": [],
   "source": [
    "df_exercise['Activity Calories'] = df_exercise['Minutes Sedentary'].apply(lambda a : int(a.replace(',', '')))"
   ]
  },
  {
   "cell_type": "code",
   "execution_count": 520,
   "metadata": {},
   "outputs": [],
   "source": [
    "df_exercise['Minutes Sedentary'] = df_exercise['Minutes Sedentary'].apply(lambda a : int(a.replace(',', '')))"
   ]
  },
  {
   "cell_type": "code",
   "execution_count": 521,
   "metadata": {},
   "outputs": [],
   "source": [
    "df_exercise['Date']= pd.to_datetime(df_exercise['Date']) "
   ]
  },
  {
   "cell_type": "code",
   "execution_count": 522,
   "metadata": {},
   "outputs": [
    {
     "data": {
      "text/html": [
       "<div>\n",
       "<style scoped>\n",
       "    .dataframe tbody tr th:only-of-type {\n",
       "        vertical-align: middle;\n",
       "    }\n",
       "\n",
       "    .dataframe tbody tr th {\n",
       "        vertical-align: top;\n",
       "    }\n",
       "\n",
       "    .dataframe thead th {\n",
       "        text-align: right;\n",
       "    }\n",
       "</style>\n",
       "<table border=\"1\" class=\"dataframe\">\n",
       "  <thead>\n",
       "    <tr style=\"text-align: right;\">\n",
       "      <th></th>\n",
       "      <th>Date</th>\n",
       "      <th>Calories Burned</th>\n",
       "      <th>Steps</th>\n",
       "      <th>Distance</th>\n",
       "      <th>Floors</th>\n",
       "      <th>Minutes Sedentary</th>\n",
       "      <th>Minutes Lightly Active</th>\n",
       "      <th>Minutes Fairly Active</th>\n",
       "      <th>Minutes Very Active</th>\n",
       "      <th>Activity Calories</th>\n",
       "    </tr>\n",
       "  </thead>\n",
       "  <tbody>\n",
       "    <tr>\n",
       "      <td>0</td>\n",
       "      <td>2020-01-01</td>\n",
       "      <td>1528</td>\n",
       "      <td>0</td>\n",
       "      <td>0.0</td>\n",
       "      <td>0</td>\n",
       "      <td>1440</td>\n",
       "      <td>0</td>\n",
       "      <td>0</td>\n",
       "      <td>0</td>\n",
       "      <td>1440</td>\n",
       "    </tr>\n",
       "    <tr>\n",
       "      <td>1</td>\n",
       "      <td>2020-02-01</td>\n",
       "      <td>1528</td>\n",
       "      <td>0</td>\n",
       "      <td>0.0</td>\n",
       "      <td>0</td>\n",
       "      <td>1440</td>\n",
       "      <td>0</td>\n",
       "      <td>0</td>\n",
       "      <td>0</td>\n",
       "      <td>1440</td>\n",
       "    </tr>\n",
       "    <tr>\n",
       "      <td>2</td>\n",
       "      <td>2020-03-01</td>\n",
       "      <td>1528</td>\n",
       "      <td>0</td>\n",
       "      <td>0.0</td>\n",
       "      <td>0</td>\n",
       "      <td>1440</td>\n",
       "      <td>0</td>\n",
       "      <td>0</td>\n",
       "      <td>0</td>\n",
       "      <td>1440</td>\n",
       "    </tr>\n",
       "    <tr>\n",
       "      <td>3</td>\n",
       "      <td>2020-04-01</td>\n",
       "      <td>1528</td>\n",
       "      <td>0</td>\n",
       "      <td>0.0</td>\n",
       "      <td>0</td>\n",
       "      <td>1440</td>\n",
       "      <td>0</td>\n",
       "      <td>0</td>\n",
       "      <td>0</td>\n",
       "      <td>1440</td>\n",
       "    </tr>\n",
       "    <tr>\n",
       "      <td>4</td>\n",
       "      <td>2020-05-01</td>\n",
       "      <td>1528</td>\n",
       "      <td>0</td>\n",
       "      <td>0.0</td>\n",
       "      <td>0</td>\n",
       "      <td>1440</td>\n",
       "      <td>0</td>\n",
       "      <td>0</td>\n",
       "      <td>0</td>\n",
       "      <td>1440</td>\n",
       "    </tr>\n",
       "  </tbody>\n",
       "</table>\n",
       "</div>"
      ],
      "text/plain": [
       "        Date  Calories Burned  Steps  Distance  Floors  Minutes Sedentary  \\\n",
       "0 2020-01-01             1528      0       0.0       0               1440   \n",
       "1 2020-02-01             1528      0       0.0       0               1440   \n",
       "2 2020-03-01             1528      0       0.0       0               1440   \n",
       "3 2020-04-01             1528      0       0.0       0               1440   \n",
       "4 2020-05-01             1528      0       0.0       0               1440   \n",
       "\n",
       "   Minutes Lightly Active  Minutes Fairly Active  Minutes Very Active  \\\n",
       "0                       0                      0                    0   \n",
       "1                       0                      0                    0   \n",
       "2                       0                      0                    0   \n",
       "3                       0                      0                    0   \n",
       "4                       0                      0                    0   \n",
       "\n",
       "   Activity Calories  \n",
       "0               1440  \n",
       "1               1440  \n",
       "2               1440  \n",
       "3               1440  \n",
       "4               1440  "
      ]
     },
     "execution_count": 522,
     "metadata": {},
     "output_type": "execute_result"
    }
   ],
   "source": [
    "df_exercise.head()"
   ]
  },
  {
   "cell_type": "code",
   "execution_count": 523,
   "metadata": {},
   "outputs": [
    {
     "data": {
      "text/plain": [
       "Date                      datetime64[ns]\n",
       "Calories Burned                    int64\n",
       "Steps                              int64\n",
       "Distance                         float64\n",
       "Floors                             int64\n",
       "Minutes Sedentary                  int64\n",
       "Minutes Lightly Active             int64\n",
       "Minutes Fairly Active              int64\n",
       "Minutes Very Active                int64\n",
       "Activity Calories                  int64\n",
       "dtype: object"
      ]
     },
     "execution_count": 523,
     "metadata": {},
     "output_type": "execute_result"
    }
   ],
   "source": [
    "df_exercise.dtypes"
   ]
  },
  {
   "cell_type": "code",
   "execution_count": 524,
   "metadata": {},
   "outputs": [],
   "source": [
    "day_name= ['Monday', 'Tuesday', 'Wednesday', 'Thursday', 'Friday', 'Saturday','Sunday']\n",
    "df_exercise['Day'] = df_exercise['Date'].apply(lambda x: day_name[x.weekday()])"
   ]
  },
  {
   "cell_type": "code",
   "execution_count": 525,
   "metadata": {},
   "outputs": [
    {
     "data": {
      "text/html": [
       "<div>\n",
       "<style scoped>\n",
       "    .dataframe tbody tr th:only-of-type {\n",
       "        vertical-align: middle;\n",
       "    }\n",
       "\n",
       "    .dataframe tbody tr th {\n",
       "        vertical-align: top;\n",
       "    }\n",
       "\n",
       "    .dataframe thead th {\n",
       "        text-align: right;\n",
       "    }\n",
       "</style>\n",
       "<table border=\"1\" class=\"dataframe\">\n",
       "  <thead>\n",
       "    <tr style=\"text-align: right;\">\n",
       "      <th></th>\n",
       "      <th>Date</th>\n",
       "      <th>Calories Burned</th>\n",
       "      <th>Steps</th>\n",
       "      <th>Distance</th>\n",
       "      <th>Floors</th>\n",
       "      <th>Minutes Sedentary</th>\n",
       "      <th>Minutes Lightly Active</th>\n",
       "      <th>Minutes Fairly Active</th>\n",
       "      <th>Minutes Very Active</th>\n",
       "      <th>Activity Calories</th>\n",
       "      <th>Day</th>\n",
       "    </tr>\n",
       "  </thead>\n",
       "  <tbody>\n",
       "    <tr>\n",
       "      <td>0</td>\n",
       "      <td>2020-01-01</td>\n",
       "      <td>1528</td>\n",
       "      <td>0</td>\n",
       "      <td>0.0</td>\n",
       "      <td>0</td>\n",
       "      <td>1440</td>\n",
       "      <td>0</td>\n",
       "      <td>0</td>\n",
       "      <td>0</td>\n",
       "      <td>1440</td>\n",
       "      <td>Wednesday</td>\n",
       "    </tr>\n",
       "    <tr>\n",
       "      <td>1</td>\n",
       "      <td>2020-02-01</td>\n",
       "      <td>1528</td>\n",
       "      <td>0</td>\n",
       "      <td>0.0</td>\n",
       "      <td>0</td>\n",
       "      <td>1440</td>\n",
       "      <td>0</td>\n",
       "      <td>0</td>\n",
       "      <td>0</td>\n",
       "      <td>1440</td>\n",
       "      <td>Saturday</td>\n",
       "    </tr>\n",
       "    <tr>\n",
       "      <td>2</td>\n",
       "      <td>2020-03-01</td>\n",
       "      <td>1528</td>\n",
       "      <td>0</td>\n",
       "      <td>0.0</td>\n",
       "      <td>0</td>\n",
       "      <td>1440</td>\n",
       "      <td>0</td>\n",
       "      <td>0</td>\n",
       "      <td>0</td>\n",
       "      <td>1440</td>\n",
       "      <td>Sunday</td>\n",
       "    </tr>\n",
       "    <tr>\n",
       "      <td>3</td>\n",
       "      <td>2020-04-01</td>\n",
       "      <td>1528</td>\n",
       "      <td>0</td>\n",
       "      <td>0.0</td>\n",
       "      <td>0</td>\n",
       "      <td>1440</td>\n",
       "      <td>0</td>\n",
       "      <td>0</td>\n",
       "      <td>0</td>\n",
       "      <td>1440</td>\n",
       "      <td>Wednesday</td>\n",
       "    </tr>\n",
       "    <tr>\n",
       "      <td>4</td>\n",
       "      <td>2020-05-01</td>\n",
       "      <td>1528</td>\n",
       "      <td>0</td>\n",
       "      <td>0.0</td>\n",
       "      <td>0</td>\n",
       "      <td>1440</td>\n",
       "      <td>0</td>\n",
       "      <td>0</td>\n",
       "      <td>0</td>\n",
       "      <td>1440</td>\n",
       "      <td>Friday</td>\n",
       "    </tr>\n",
       "  </tbody>\n",
       "</table>\n",
       "</div>"
      ],
      "text/plain": [
       "        Date  Calories Burned  Steps  Distance  Floors  Minutes Sedentary  \\\n",
       "0 2020-01-01             1528      0       0.0       0               1440   \n",
       "1 2020-02-01             1528      0       0.0       0               1440   \n",
       "2 2020-03-01             1528      0       0.0       0               1440   \n",
       "3 2020-04-01             1528      0       0.0       0               1440   \n",
       "4 2020-05-01             1528      0       0.0       0               1440   \n",
       "\n",
       "   Minutes Lightly Active  Minutes Fairly Active  Minutes Very Active  \\\n",
       "0                       0                      0                    0   \n",
       "1                       0                      0                    0   \n",
       "2                       0                      0                    0   \n",
       "3                       0                      0                    0   \n",
       "4                       0                      0                    0   \n",
       "\n",
       "   Activity Calories        Day  \n",
       "0               1440  Wednesday  \n",
       "1               1440   Saturday  \n",
       "2               1440     Sunday  \n",
       "3               1440  Wednesday  \n",
       "4               1440     Friday  "
      ]
     },
     "execution_count": 525,
     "metadata": {},
     "output_type": "execute_result"
    }
   ],
   "source": [
    "df_exercise.head()"
   ]
  },
  {
   "cell_type": "code",
   "execution_count": 526,
   "metadata": {},
   "outputs": [],
   "source": [
    "df_exercise.sort_values(\"Date\", axis = 0, ascending = True, \n",
    "                 inplace = True) "
   ]
  },
  {
   "cell_type": "code",
   "execution_count": 527,
   "metadata": {},
   "outputs": [
    {
     "data": {
      "text/html": [
       "<div>\n",
       "<style scoped>\n",
       "    .dataframe tbody tr th:only-of-type {\n",
       "        vertical-align: middle;\n",
       "    }\n",
       "\n",
       "    .dataframe tbody tr th {\n",
       "        vertical-align: top;\n",
       "    }\n",
       "\n",
       "    .dataframe thead th {\n",
       "        text-align: right;\n",
       "    }\n",
       "</style>\n",
       "<table border=\"1\" class=\"dataframe\">\n",
       "  <thead>\n",
       "    <tr style=\"text-align: right;\">\n",
       "      <th></th>\n",
       "      <th>Date</th>\n",
       "      <th>Calories Burned</th>\n",
       "      <th>Steps</th>\n",
       "      <th>Distance</th>\n",
       "      <th>Floors</th>\n",
       "      <th>Minutes Sedentary</th>\n",
       "      <th>Minutes Lightly Active</th>\n",
       "      <th>Minutes Fairly Active</th>\n",
       "      <th>Minutes Very Active</th>\n",
       "      <th>Activity Calories</th>\n",
       "      <th>Day</th>\n",
       "    </tr>\n",
       "  </thead>\n",
       "  <tbody>\n",
       "    <tr>\n",
       "      <td>0</td>\n",
       "      <td>2020-01-01</td>\n",
       "      <td>1528</td>\n",
       "      <td>0</td>\n",
       "      <td>0.00</td>\n",
       "      <td>0</td>\n",
       "      <td>1440</td>\n",
       "      <td>0</td>\n",
       "      <td>0</td>\n",
       "      <td>0</td>\n",
       "      <td>1440</td>\n",
       "      <td>Wednesday</td>\n",
       "    </tr>\n",
       "    <tr>\n",
       "      <td>31</td>\n",
       "      <td>2020-01-02</td>\n",
       "      <td>1705</td>\n",
       "      <td>1999</td>\n",
       "      <td>1.39</td>\n",
       "      <td>0</td>\n",
       "      <td>939</td>\n",
       "      <td>73</td>\n",
       "      <td>0</td>\n",
       "      <td>0</td>\n",
       "      <td>939</td>\n",
       "      <td>Thursday</td>\n",
       "    </tr>\n",
       "    <tr>\n",
       "      <td>60</td>\n",
       "      <td>2020-01-03</td>\n",
       "      <td>2764</td>\n",
       "      <td>16048</td>\n",
       "      <td>11.16</td>\n",
       "      <td>0</td>\n",
       "      <td>613</td>\n",
       "      <td>337</td>\n",
       "      <td>54</td>\n",
       "      <td>42</td>\n",
       "      <td>613</td>\n",
       "      <td>Friday</td>\n",
       "    </tr>\n",
       "    <tr>\n",
       "      <td>91</td>\n",
       "      <td>2020-01-04</td>\n",
       "      <td>2136</td>\n",
       "      <td>7058</td>\n",
       "      <td>4.91</td>\n",
       "      <td>0</td>\n",
       "      <td>818</td>\n",
       "      <td>209</td>\n",
       "      <td>36</td>\n",
       "      <td>2</td>\n",
       "      <td>818</td>\n",
       "      <td>Saturday</td>\n",
       "    </tr>\n",
       "    <tr>\n",
       "      <td>12</td>\n",
       "      <td>2020-01-13</td>\n",
       "      <td>1528</td>\n",
       "      <td>0</td>\n",
       "      <td>0.00</td>\n",
       "      <td>0</td>\n",
       "      <td>1440</td>\n",
       "      <td>0</td>\n",
       "      <td>0</td>\n",
       "      <td>0</td>\n",
       "      <td>1440</td>\n",
       "      <td>Monday</td>\n",
       "    </tr>\n",
       "  </tbody>\n",
       "</table>\n",
       "</div>"
      ],
      "text/plain": [
       "         Date  Calories Burned  Steps  Distance  Floors  Minutes Sedentary  \\\n",
       "0  2020-01-01             1528      0      0.00       0               1440   \n",
       "31 2020-01-02             1705   1999      1.39       0                939   \n",
       "60 2020-01-03             2764  16048     11.16       0                613   \n",
       "91 2020-01-04             2136   7058      4.91       0                818   \n",
       "12 2020-01-13             1528      0      0.00       0               1440   \n",
       "\n",
       "    Minutes Lightly Active  Minutes Fairly Active  Minutes Very Active  \\\n",
       "0                        0                      0                    0   \n",
       "31                      73                      0                    0   \n",
       "60                     337                     54                   42   \n",
       "91                     209                     36                    2   \n",
       "12                       0                      0                    0   \n",
       "\n",
       "    Activity Calories        Day  \n",
       "0                1440  Wednesday  \n",
       "31                939   Thursday  \n",
       "60                613     Friday  \n",
       "91                818   Saturday  \n",
       "12               1440     Monday  "
      ]
     },
     "execution_count": 527,
     "metadata": {},
     "output_type": "execute_result"
    }
   ],
   "source": [
    "df_exercise.head()"
   ]
  },
  {
   "cell_type": "code",
   "execution_count": 528,
   "metadata": {},
   "outputs": [],
   "source": [
    "df_exercise_preLockdown = df_exercise[(df_exercise['Date'] >= '2020-02-13') & (df_exercise['Date'] <= '2020-03-15')\n",
    "                                      & (~(df_exercise['Day'].isin(['Saturday','Sunday'])) ) & (df_exercise['Steps']!=0)]"
   ]
  },
  {
   "cell_type": "code",
   "execution_count": 529,
   "metadata": {},
   "outputs": [
    {
     "data": {
      "text/html": [
       "<div>\n",
       "<style scoped>\n",
       "    .dataframe tbody tr th:only-of-type {\n",
       "        vertical-align: middle;\n",
       "    }\n",
       "\n",
       "    .dataframe tbody tr th {\n",
       "        vertical-align: top;\n",
       "    }\n",
       "\n",
       "    .dataframe thead th {\n",
       "        text-align: right;\n",
       "    }\n",
       "</style>\n",
       "<table border=\"1\" class=\"dataframe\">\n",
       "  <thead>\n",
       "    <tr style=\"text-align: right;\">\n",
       "      <th></th>\n",
       "      <th>Date</th>\n",
       "      <th>Calories Burned</th>\n",
       "      <th>Steps</th>\n",
       "      <th>Distance</th>\n",
       "      <th>Floors</th>\n",
       "      <th>Minutes Sedentary</th>\n",
       "      <th>Minutes Lightly Active</th>\n",
       "      <th>Minutes Fairly Active</th>\n",
       "      <th>Minutes Very Active</th>\n",
       "      <th>Activity Calories</th>\n",
       "      <th>Day</th>\n",
       "    </tr>\n",
       "  </thead>\n",
       "  <tbody>\n",
       "    <tr>\n",
       "      <td>43</td>\n",
       "      <td>2020-02-13</td>\n",
       "      <td>2755</td>\n",
       "      <td>16459</td>\n",
       "      <td>11.44</td>\n",
       "      <td>0</td>\n",
       "      <td>740</td>\n",
       "      <td>305</td>\n",
       "      <td>46</td>\n",
       "      <td>46</td>\n",
       "      <td>740</td>\n",
       "      <td>Thursday</td>\n",
       "    </tr>\n",
       "    <tr>\n",
       "      <td>44</td>\n",
       "      <td>2020-02-14</td>\n",
       "      <td>2896</td>\n",
       "      <td>19163</td>\n",
       "      <td>13.43</td>\n",
       "      <td>0</td>\n",
       "      <td>495</td>\n",
       "      <td>342</td>\n",
       "      <td>70</td>\n",
       "      <td>21</td>\n",
       "      <td>495</td>\n",
       "      <td>Friday</td>\n",
       "    </tr>\n",
       "    <tr>\n",
       "      <td>47</td>\n",
       "      <td>2020-02-17</td>\n",
       "      <td>2229</td>\n",
       "      <td>9037</td>\n",
       "      <td>6.29</td>\n",
       "      <td>0</td>\n",
       "      <td>780</td>\n",
       "      <td>197</td>\n",
       "      <td>30</td>\n",
       "      <td>25</td>\n",
       "      <td>780</td>\n",
       "      <td>Monday</td>\n",
       "    </tr>\n",
       "    <tr>\n",
       "      <td>48</td>\n",
       "      <td>2020-02-18</td>\n",
       "      <td>2437</td>\n",
       "      <td>11677</td>\n",
       "      <td>8.24</td>\n",
       "      <td>0</td>\n",
       "      <td>759</td>\n",
       "      <td>295</td>\n",
       "      <td>16</td>\n",
       "      <td>14</td>\n",
       "      <td>759</td>\n",
       "      <td>Tuesday</td>\n",
       "    </tr>\n",
       "    <tr>\n",
       "      <td>49</td>\n",
       "      <td>2020-02-19</td>\n",
       "      <td>2330</td>\n",
       "      <td>9962</td>\n",
       "      <td>6.92</td>\n",
       "      <td>0</td>\n",
       "      <td>1133</td>\n",
       "      <td>281</td>\n",
       "      <td>16</td>\n",
       "      <td>10</td>\n",
       "      <td>1133</td>\n",
       "      <td>Wednesday</td>\n",
       "    </tr>\n",
       "  </tbody>\n",
       "</table>\n",
       "</div>"
      ],
      "text/plain": [
       "         Date  Calories Burned  Steps  Distance  Floors  Minutes Sedentary  \\\n",
       "43 2020-02-13             2755  16459     11.44       0                740   \n",
       "44 2020-02-14             2896  19163     13.43       0                495   \n",
       "47 2020-02-17             2229   9037      6.29       0                780   \n",
       "48 2020-02-18             2437  11677      8.24       0                759   \n",
       "49 2020-02-19             2330   9962      6.92       0               1133   \n",
       "\n",
       "    Minutes Lightly Active  Minutes Fairly Active  Minutes Very Active  \\\n",
       "43                     305                     46                   46   \n",
       "44                     342                     70                   21   \n",
       "47                     197                     30                   25   \n",
       "48                     295                     16                   14   \n",
       "49                     281                     16                   10   \n",
       "\n",
       "    Activity Calories        Day  \n",
       "43                740   Thursday  \n",
       "44                495     Friday  \n",
       "47                780     Monday  \n",
       "48                759    Tuesday  \n",
       "49               1133  Wednesday  "
      ]
     },
     "execution_count": 529,
     "metadata": {},
     "output_type": "execute_result"
    }
   ],
   "source": [
    "df_exercise_preLockdown.head()"
   ]
  },
  {
   "cell_type": "code",
   "execution_count": 530,
   "metadata": {},
   "outputs": [
    {
     "data": {
      "text/plain": [
       "(16, 11)"
      ]
     },
     "execution_count": 530,
     "metadata": {},
     "output_type": "execute_result"
    }
   ],
   "source": [
    "df_exercise_preLockdown.shape"
   ]
  },
  {
   "cell_type": "code",
   "execution_count": 531,
   "metadata": {},
   "outputs": [],
   "source": [
    "df_exercise_postLockdown = df_exercise[(df_exercise['Date'] >= '2020-03-16') &\n",
    "                                       (~(df_exercise['Day'].isin(['Saturday','Sunday'])) ) & (df_exercise['Steps']!=0)]"
   ]
  },
  {
   "cell_type": "code",
   "execution_count": 532,
   "metadata": {},
   "outputs": [
    {
     "data": {
      "text/html": [
       "<div>\n",
       "<style scoped>\n",
       "    .dataframe tbody tr th:only-of-type {\n",
       "        vertical-align: middle;\n",
       "    }\n",
       "\n",
       "    .dataframe tbody tr th {\n",
       "        vertical-align: top;\n",
       "    }\n",
       "\n",
       "    .dataframe thead th {\n",
       "        text-align: right;\n",
       "    }\n",
       "</style>\n",
       "<table border=\"1\" class=\"dataframe\">\n",
       "  <thead>\n",
       "    <tr style=\"text-align: right;\">\n",
       "      <th></th>\n",
       "      <th>Date</th>\n",
       "      <th>Calories Burned</th>\n",
       "      <th>Steps</th>\n",
       "      <th>Distance</th>\n",
       "      <th>Floors</th>\n",
       "      <th>Minutes Sedentary</th>\n",
       "      <th>Minutes Lightly Active</th>\n",
       "      <th>Minutes Fairly Active</th>\n",
       "      <th>Minutes Very Active</th>\n",
       "      <th>Activity Calories</th>\n",
       "      <th>Day</th>\n",
       "    </tr>\n",
       "  </thead>\n",
       "  <tbody>\n",
       "    <tr>\n",
       "      <td>75</td>\n",
       "      <td>2020-03-16</td>\n",
       "      <td>2191</td>\n",
       "      <td>7389</td>\n",
       "      <td>5.14</td>\n",
       "      <td>0</td>\n",
       "      <td>723</td>\n",
       "      <td>274</td>\n",
       "      <td>9</td>\n",
       "      <td>0</td>\n",
       "      <td>723</td>\n",
       "      <td>Monday</td>\n",
       "    </tr>\n",
       "    <tr>\n",
       "      <td>76</td>\n",
       "      <td>2020-03-17</td>\n",
       "      <td>2403</td>\n",
       "      <td>10609</td>\n",
       "      <td>7.44</td>\n",
       "      <td>0</td>\n",
       "      <td>751</td>\n",
       "      <td>297</td>\n",
       "      <td>30</td>\n",
       "      <td>10</td>\n",
       "      <td>751</td>\n",
       "      <td>Tuesday</td>\n",
       "    </tr>\n",
       "    <tr>\n",
       "      <td>77</td>\n",
       "      <td>2020-03-18</td>\n",
       "      <td>2235</td>\n",
       "      <td>7958</td>\n",
       "      <td>5.54</td>\n",
       "      <td>0</td>\n",
       "      <td>864</td>\n",
       "      <td>264</td>\n",
       "      <td>30</td>\n",
       "      <td>2</td>\n",
       "      <td>864</td>\n",
       "      <td>Wednesday</td>\n",
       "    </tr>\n",
       "    <tr>\n",
       "      <td>78</td>\n",
       "      <td>2020-03-19</td>\n",
       "      <td>2007</td>\n",
       "      <td>5205</td>\n",
       "      <td>3.62</td>\n",
       "      <td>0</td>\n",
       "      <td>794</td>\n",
       "      <td>199</td>\n",
       "      <td>8</td>\n",
       "      <td>1</td>\n",
       "      <td>794</td>\n",
       "      <td>Thursday</td>\n",
       "    </tr>\n",
       "    <tr>\n",
       "      <td>79</td>\n",
       "      <td>2020-03-20</td>\n",
       "      <td>2159</td>\n",
       "      <td>6908</td>\n",
       "      <td>4.89</td>\n",
       "      <td>0</td>\n",
       "      <td>796</td>\n",
       "      <td>242</td>\n",
       "      <td>17</td>\n",
       "      <td>6</td>\n",
       "      <td>796</td>\n",
       "      <td>Friday</td>\n",
       "    </tr>\n",
       "  </tbody>\n",
       "</table>\n",
       "</div>"
      ],
      "text/plain": [
       "         Date  Calories Burned  Steps  Distance  Floors  Minutes Sedentary  \\\n",
       "75 2020-03-16             2191   7389      5.14       0                723   \n",
       "76 2020-03-17             2403  10609      7.44       0                751   \n",
       "77 2020-03-18             2235   7958      5.54       0                864   \n",
       "78 2020-03-19             2007   5205      3.62       0                794   \n",
       "79 2020-03-20             2159   6908      4.89       0                796   \n",
       "\n",
       "    Minutes Lightly Active  Minutes Fairly Active  Minutes Very Active  \\\n",
       "75                     274                      9                    0   \n",
       "76                     297                     30                   10   \n",
       "77                     264                     30                    2   \n",
       "78                     199                      8                    1   \n",
       "79                     242                     17                    6   \n",
       "\n",
       "    Activity Calories        Day  \n",
       "75                723     Monday  \n",
       "76                751    Tuesday  \n",
       "77                864  Wednesday  \n",
       "78                794   Thursday  \n",
       "79                796     Friday  "
      ]
     },
     "execution_count": 532,
     "metadata": {},
     "output_type": "execute_result"
    }
   ],
   "source": [
    "df_exercise_postLockdown.head()"
   ]
  },
  {
   "cell_type": "code",
   "execution_count": 533,
   "metadata": {},
   "outputs": [
    {
     "data": {
      "text/plain": [
       "(28, 11)"
      ]
     },
     "execution_count": 533,
     "metadata": {},
     "output_type": "execute_result"
    }
   ],
   "source": [
    "df_exercise_postLockdown.shape"
   ]
  },
  {
   "cell_type": "code",
   "execution_count": 534,
   "metadata": {},
   "outputs": [
    {
     "data": {
      "text/plain": [
       "(12463.3125, 2475.0, 8.682500000000001)"
      ]
     },
     "execution_count": 534,
     "metadata": {},
     "output_type": "execute_result"
    }
   ],
   "source": [
    "df_exercise_preLockdown['Steps'].mean(),df_exercise_preLockdown['Calories Burned'].mean(),df_exercise_preLockdown['Distance'].mean()"
   ]
  },
  {
   "cell_type": "code",
   "execution_count": 535,
   "metadata": {},
   "outputs": [
    {
     "data": {
      "text/plain": [
       "(9702.642857142857, 2290.0714285714284, 6.743571428571428)"
      ]
     },
     "execution_count": 535,
     "metadata": {},
     "output_type": "execute_result"
    }
   ],
   "source": [
    "df_exercise_postLockdown['Steps'].mean(),df_exercise_postLockdown['Calories Burned'].mean(),df_exercise_postLockdown['Distance'].mean()"
   ]
  },
  {
   "cell_type": "code",
   "execution_count": 536,
   "metadata": {},
   "outputs": [
    {
     "data": {
      "text/plain": [
       "0.3771965016448688"
      ]
     },
     "execution_count": 536,
     "metadata": {},
     "output_type": "execute_result"
    }
   ],
   "source": [
    "(12463 - 7762) / 12463"
   ]
  },
  {
   "cell_type": "code",
   "execution_count": 537,
   "metadata": {},
   "outputs": [
    {
     "data": {
      "text/plain": [
       "0.13632323232323235"
      ]
     },
     "execution_count": 537,
     "metadata": {},
     "output_type": "execute_result"
    }
   ],
   "source": [
    "(2475.0 - 2137.6)/2475.0"
   ]
  },
  {
   "cell_type": "code",
   "execution_count": 538,
   "metadata": {},
   "outputs": [
    {
     "data": {
      "text/plain": [
       "Calories Burned            2475.0000\n",
       "Steps                     12463.3125\n",
       "Distance                      8.6825\n",
       "Floors                        0.0000\n",
       "Minutes Sedentary           779.4375\n",
       "Minutes Lightly Active      273.5625\n",
       "Minutes Fairly Active        31.5625\n",
       "Minutes Very Active          23.1250\n",
       "Activity Calories           779.4375\n",
       "dtype: float64"
      ]
     },
     "execution_count": 538,
     "metadata": {},
     "output_type": "execute_result"
    }
   ],
   "source": [
    "df_exercise_preLockdown.mean()"
   ]
  },
  {
   "cell_type": "code",
   "execution_count": 539,
   "metadata": {},
   "outputs": [
    {
     "data": {
      "text/plain": [
       "Calories Burned           2290.071429\n",
       "Steps                     9702.642857\n",
       "Distance                     6.743571\n",
       "Floors                       0.000000\n",
       "Minutes Sedentary          770.392857\n",
       "Minutes Lightly Active     232.035714\n",
       "Minutes Fairly Active       21.714286\n",
       "Minutes Very Active         19.642857\n",
       "Activity Calories          770.392857\n",
       "dtype: float64"
      ]
     },
     "execution_count": 539,
     "metadata": {},
     "output_type": "execute_result"
    }
   ],
   "source": [
    "df_exercise_postLockdown.mean()"
   ]
  },
  {
   "cell_type": "code",
   "execution_count": 540,
   "metadata": {},
   "outputs": [
    {
     "data": {
      "text/plain": [
       "Calories Burned            259.844312\n",
       "Steps                     3993.441869\n",
       "Distance                     2.776262\n",
       "Floors                       0.000000\n",
       "Minutes Sedentary          150.622694\n",
       "Minutes Lightly Active      51.568684\n",
       "Minutes Fairly Active       15.028723\n",
       "Minutes Very Active         21.935891\n",
       "Activity Calories          150.622694\n",
       "dtype: float64"
      ]
     },
     "execution_count": 540,
     "metadata": {},
     "output_type": "execute_result"
    }
   ],
   "source": [
    "df_exercise_preLockdown.std()"
   ]
  },
  {
   "cell_type": "code",
   "execution_count": 541,
   "metadata": {},
   "outputs": [
    {
     "data": {
      "text/plain": [
       "Calories Burned            328.910877\n",
       "Steps                     5101.300046\n",
       "Distance                     3.548745\n",
       "Floors                       0.000000\n",
       "Minutes Sedentary          105.172641\n",
       "Minutes Lightly Active      67.265357\n",
       "Minutes Fairly Active       16.959335\n",
       "Minutes Very Active         28.906252\n",
       "Activity Calories          105.172641\n",
       "dtype: float64"
      ]
     },
     "execution_count": 541,
     "metadata": {},
     "output_type": "execute_result"
    }
   ],
   "source": [
    "df_exercise_postLockdown.std()"
   ]
  },
  {
   "cell_type": "code",
   "execution_count": 542,
   "metadata": {},
   "outputs": [],
   "source": [
    "df_sleep = pd.read_csv('Sleep_data.csv')"
   ]
  },
  {
   "cell_type": "code",
   "execution_count": 543,
   "metadata": {},
   "outputs": [
    {
     "data": {
      "text/html": [
       "<div>\n",
       "<style scoped>\n",
       "    .dataframe tbody tr th:only-of-type {\n",
       "        vertical-align: middle;\n",
       "    }\n",
       "\n",
       "    .dataframe tbody tr th {\n",
       "        vertical-align: top;\n",
       "    }\n",
       "\n",
       "    .dataframe thead th {\n",
       "        text-align: right;\n",
       "    }\n",
       "</style>\n",
       "<table border=\"1\" class=\"dataframe\">\n",
       "  <thead>\n",
       "    <tr style=\"text-align: right;\">\n",
       "      <th></th>\n",
       "      <th>StartTime</th>\n",
       "      <th>EndTime</th>\n",
       "      <th>MinutesAsleep</th>\n",
       "      <th>MinutesAwake</th>\n",
       "      <th>NumberOfAwakenings</th>\n",
       "      <th>TimeInBed</th>\n",
       "      <th>MinutesRemSleep</th>\n",
       "      <th>MinutesLightSleep</th>\n",
       "      <th>MinutesDeepSleep</th>\n",
       "    </tr>\n",
       "  </thead>\n",
       "  <tbody>\n",
       "    <tr>\n",
       "      <td>0</td>\n",
       "      <td>Sunday, 19 January 2020</td>\n",
       "      <td>Sunday, 19 January 2020</td>\n",
       "      <td>375</td>\n",
       "      <td>13</td>\n",
       "      <td>6</td>\n",
       "      <td>404</td>\n",
       "      <td>NaN</td>\n",
       "      <td>NaN</td>\n",
       "      <td>NaN</td>\n",
       "    </tr>\n",
       "    <tr>\n",
       "      <td>1</td>\n",
       "      <td>Monday, 20 January 2020</td>\n",
       "      <td>Monday, 20 January 2020</td>\n",
       "      <td>345</td>\n",
       "      <td>44</td>\n",
       "      <td>2</td>\n",
       "      <td>389</td>\n",
       "      <td>NaN</td>\n",
       "      <td>NaN</td>\n",
       "      <td>NaN</td>\n",
       "    </tr>\n",
       "    <tr>\n",
       "      <td>2</td>\n",
       "      <td>Tuesday, 21 January 2020</td>\n",
       "      <td>Tuesday, 21 January 2020</td>\n",
       "      <td>418</td>\n",
       "      <td>53</td>\n",
       "      <td>5</td>\n",
       "      <td>475</td>\n",
       "      <td>NaN</td>\n",
       "      <td>NaN</td>\n",
       "      <td>NaN</td>\n",
       "    </tr>\n",
       "    <tr>\n",
       "      <td>3</td>\n",
       "      <td>Wednesday, 22 January 2020</td>\n",
       "      <td>Wednesday, 22 January 2020</td>\n",
       "      <td>352</td>\n",
       "      <td>39</td>\n",
       "      <td>3</td>\n",
       "      <td>391</td>\n",
       "      <td>NaN</td>\n",
       "      <td>NaN</td>\n",
       "      <td>NaN</td>\n",
       "    </tr>\n",
       "    <tr>\n",
       "      <td>4</td>\n",
       "      <td>Thursday, 23 January 2020</td>\n",
       "      <td>Thursday, 23 January 2020</td>\n",
       "      <td>376</td>\n",
       "      <td>45</td>\n",
       "      <td>2</td>\n",
       "      <td>427</td>\n",
       "      <td>NaN</td>\n",
       "      <td>NaN</td>\n",
       "      <td>NaN</td>\n",
       "    </tr>\n",
       "  </tbody>\n",
       "</table>\n",
       "</div>"
      ],
      "text/plain": [
       "                    StartTime                     EndTime  MinutesAsleep  \\\n",
       "0     Sunday, 19 January 2020     Sunday, 19 January 2020            375   \n",
       "1     Monday, 20 January 2020     Monday, 20 January 2020            345   \n",
       "2    Tuesday, 21 January 2020    Tuesday, 21 January 2020            418   \n",
       "3  Wednesday, 22 January 2020  Wednesday, 22 January 2020            352   \n",
       "4   Thursday, 23 January 2020   Thursday, 23 January 2020            376   \n",
       "\n",
       "   MinutesAwake  NumberOfAwakenings  TimeInBed  MinutesRemSleep  \\\n",
       "0            13                   6        404              NaN   \n",
       "1            44                   2        389              NaN   \n",
       "2            53                   5        475              NaN   \n",
       "3            39                   3        391              NaN   \n",
       "4            45                   2        427              NaN   \n",
       "\n",
       "   MinutesLightSleep  MinutesDeepSleep  \n",
       "0                NaN               NaN  \n",
       "1                NaN               NaN  \n",
       "2                NaN               NaN  \n",
       "3                NaN               NaN  \n",
       "4                NaN               NaN  "
      ]
     },
     "execution_count": 543,
     "metadata": {},
     "output_type": "execute_result"
    }
   ],
   "source": [
    "df_sleep.head()"
   ]
  },
  {
   "cell_type": "code",
   "execution_count": 544,
   "metadata": {},
   "outputs": [
    {
     "data": {
      "text/plain": [
       "StartTime              object\n",
       "EndTime                object\n",
       "MinutesAsleep           int64\n",
       "MinutesAwake            int64\n",
       "NumberOfAwakenings      int64\n",
       "TimeInBed               int64\n",
       "MinutesRemSleep       float64\n",
       "MinutesLightSleep     float64\n",
       "MinutesDeepSleep      float64\n",
       "dtype: object"
      ]
     },
     "execution_count": 544,
     "metadata": {},
     "output_type": "execute_result"
    }
   ],
   "source": [
    "df_sleep.dtypes"
   ]
  },
  {
   "cell_type": "code",
   "execution_count": 545,
   "metadata": {},
   "outputs": [],
   "source": [
    "df_sleep['StartTime']= pd.to_datetime(df_sleep['StartTime']).dt.strftime('%Y-%m-%d')\n",
    "df_sleep['EndTime']= pd.to_datetime(df_sleep['EndTime']).dt.strftime('%Y-%m-%d')"
   ]
  },
  {
   "cell_type": "code",
   "execution_count": 546,
   "metadata": {},
   "outputs": [
    {
     "data": {
      "text/html": [
       "<div>\n",
       "<style scoped>\n",
       "    .dataframe tbody tr th:only-of-type {\n",
       "        vertical-align: middle;\n",
       "    }\n",
       "\n",
       "    .dataframe tbody tr th {\n",
       "        vertical-align: top;\n",
       "    }\n",
       "\n",
       "    .dataframe thead th {\n",
       "        text-align: right;\n",
       "    }\n",
       "</style>\n",
       "<table border=\"1\" class=\"dataframe\">\n",
       "  <thead>\n",
       "    <tr style=\"text-align: right;\">\n",
       "      <th></th>\n",
       "      <th>StartTime</th>\n",
       "      <th>EndTime</th>\n",
       "      <th>MinutesAsleep</th>\n",
       "      <th>MinutesAwake</th>\n",
       "      <th>NumberOfAwakenings</th>\n",
       "      <th>TimeInBed</th>\n",
       "      <th>MinutesRemSleep</th>\n",
       "      <th>MinutesLightSleep</th>\n",
       "      <th>MinutesDeepSleep</th>\n",
       "    </tr>\n",
       "  </thead>\n",
       "  <tbody>\n",
       "    <tr>\n",
       "      <td>0</td>\n",
       "      <td>2020-01-19</td>\n",
       "      <td>2020-01-19</td>\n",
       "      <td>375</td>\n",
       "      <td>13</td>\n",
       "      <td>6</td>\n",
       "      <td>404</td>\n",
       "      <td>NaN</td>\n",
       "      <td>NaN</td>\n",
       "      <td>NaN</td>\n",
       "    </tr>\n",
       "    <tr>\n",
       "      <td>1</td>\n",
       "      <td>2020-01-20</td>\n",
       "      <td>2020-01-20</td>\n",
       "      <td>345</td>\n",
       "      <td>44</td>\n",
       "      <td>2</td>\n",
       "      <td>389</td>\n",
       "      <td>NaN</td>\n",
       "      <td>NaN</td>\n",
       "      <td>NaN</td>\n",
       "    </tr>\n",
       "    <tr>\n",
       "      <td>2</td>\n",
       "      <td>2020-01-21</td>\n",
       "      <td>2020-01-21</td>\n",
       "      <td>418</td>\n",
       "      <td>53</td>\n",
       "      <td>5</td>\n",
       "      <td>475</td>\n",
       "      <td>NaN</td>\n",
       "      <td>NaN</td>\n",
       "      <td>NaN</td>\n",
       "    </tr>\n",
       "    <tr>\n",
       "      <td>3</td>\n",
       "      <td>2020-01-22</td>\n",
       "      <td>2020-01-22</td>\n",
       "      <td>352</td>\n",
       "      <td>39</td>\n",
       "      <td>3</td>\n",
       "      <td>391</td>\n",
       "      <td>NaN</td>\n",
       "      <td>NaN</td>\n",
       "      <td>NaN</td>\n",
       "    </tr>\n",
       "    <tr>\n",
       "      <td>4</td>\n",
       "      <td>2020-01-23</td>\n",
       "      <td>2020-01-23</td>\n",
       "      <td>376</td>\n",
       "      <td>45</td>\n",
       "      <td>2</td>\n",
       "      <td>427</td>\n",
       "      <td>NaN</td>\n",
       "      <td>NaN</td>\n",
       "      <td>NaN</td>\n",
       "    </tr>\n",
       "  </tbody>\n",
       "</table>\n",
       "</div>"
      ],
      "text/plain": [
       "    StartTime     EndTime  MinutesAsleep  MinutesAwake  NumberOfAwakenings  \\\n",
       "0  2020-01-19  2020-01-19            375            13                   6   \n",
       "1  2020-01-20  2020-01-20            345            44                   2   \n",
       "2  2020-01-21  2020-01-21            418            53                   5   \n",
       "3  2020-01-22  2020-01-22            352            39                   3   \n",
       "4  2020-01-23  2020-01-23            376            45                   2   \n",
       "\n",
       "   TimeInBed  MinutesRemSleep  MinutesLightSleep  MinutesDeepSleep  \n",
       "0        404              NaN                NaN               NaN  \n",
       "1        389              NaN                NaN               NaN  \n",
       "2        475              NaN                NaN               NaN  \n",
       "3        391              NaN                NaN               NaN  \n",
       "4        427              NaN                NaN               NaN  "
      ]
     },
     "execution_count": 546,
     "metadata": {},
     "output_type": "execute_result"
    }
   ],
   "source": [
    "df_sleep.head()"
   ]
  },
  {
   "cell_type": "code",
   "execution_count": 547,
   "metadata": {},
   "outputs": [
    {
     "data": {
      "text/plain": [
       "Index(['StartTime', 'EndTime', 'MinutesAsleep', 'MinutesAwake',\n",
       "       'NumberOfAwakenings', 'TimeInBed', 'MinutesRemSleep',\n",
       "       'MinutesLightSleep', 'MinutesDeepSleep'],\n",
       "      dtype='object')"
      ]
     },
     "execution_count": 547,
     "metadata": {},
     "output_type": "execute_result"
    }
   ],
   "source": [
    "df_sleep.columns"
   ]
  },
  {
   "cell_type": "code",
   "execution_count": 548,
   "metadata": {},
   "outputs": [],
   "source": [
    "cols = ['StartTime','EndTime', 'MinutesAsleep', 'MinutesAwake',\n",
    "       'NumberOfAwakenings', 'TimeInBed']"
   ]
  },
  {
   "cell_type": "code",
   "execution_count": 549,
   "metadata": {},
   "outputs": [],
   "source": [
    "df_sleep = df_sleep[cols]"
   ]
  },
  {
   "cell_type": "code",
   "execution_count": 550,
   "metadata": {},
   "outputs": [
    {
     "data": {
      "text/html": [
       "<div>\n",
       "<style scoped>\n",
       "    .dataframe tbody tr th:only-of-type {\n",
       "        vertical-align: middle;\n",
       "    }\n",
       "\n",
       "    .dataframe tbody tr th {\n",
       "        vertical-align: top;\n",
       "    }\n",
       "\n",
       "    .dataframe thead th {\n",
       "        text-align: right;\n",
       "    }\n",
       "</style>\n",
       "<table border=\"1\" class=\"dataframe\">\n",
       "  <thead>\n",
       "    <tr style=\"text-align: right;\">\n",
       "      <th></th>\n",
       "      <th>StartTime</th>\n",
       "      <th>EndTime</th>\n",
       "      <th>MinutesAsleep</th>\n",
       "      <th>MinutesAwake</th>\n",
       "      <th>NumberOfAwakenings</th>\n",
       "      <th>TimeInBed</th>\n",
       "    </tr>\n",
       "  </thead>\n",
       "  <tbody>\n",
       "    <tr>\n",
       "      <td>0</td>\n",
       "      <td>2020-01-19</td>\n",
       "      <td>2020-01-19</td>\n",
       "      <td>375</td>\n",
       "      <td>13</td>\n",
       "      <td>6</td>\n",
       "      <td>404</td>\n",
       "    </tr>\n",
       "    <tr>\n",
       "      <td>1</td>\n",
       "      <td>2020-01-20</td>\n",
       "      <td>2020-01-20</td>\n",
       "      <td>345</td>\n",
       "      <td>44</td>\n",
       "      <td>2</td>\n",
       "      <td>389</td>\n",
       "    </tr>\n",
       "    <tr>\n",
       "      <td>2</td>\n",
       "      <td>2020-01-21</td>\n",
       "      <td>2020-01-21</td>\n",
       "      <td>418</td>\n",
       "      <td>53</td>\n",
       "      <td>5</td>\n",
       "      <td>475</td>\n",
       "    </tr>\n",
       "    <tr>\n",
       "      <td>3</td>\n",
       "      <td>2020-01-22</td>\n",
       "      <td>2020-01-22</td>\n",
       "      <td>352</td>\n",
       "      <td>39</td>\n",
       "      <td>3</td>\n",
       "      <td>391</td>\n",
       "    </tr>\n",
       "    <tr>\n",
       "      <td>4</td>\n",
       "      <td>2020-01-23</td>\n",
       "      <td>2020-01-23</td>\n",
       "      <td>376</td>\n",
       "      <td>45</td>\n",
       "      <td>2</td>\n",
       "      <td>427</td>\n",
       "    </tr>\n",
       "  </tbody>\n",
       "</table>\n",
       "</div>"
      ],
      "text/plain": [
       "    StartTime     EndTime  MinutesAsleep  MinutesAwake  NumberOfAwakenings  \\\n",
       "0  2020-01-19  2020-01-19            375            13                   6   \n",
       "1  2020-01-20  2020-01-20            345            44                   2   \n",
       "2  2020-01-21  2020-01-21            418            53                   5   \n",
       "3  2020-01-22  2020-01-22            352            39                   3   \n",
       "4  2020-01-23  2020-01-23            376            45                   2   \n",
       "\n",
       "   TimeInBed  \n",
       "0        404  \n",
       "1        389  \n",
       "2        475  \n",
       "3        391  \n",
       "4        427  "
      ]
     },
     "execution_count": 550,
     "metadata": {},
     "output_type": "execute_result"
    }
   ],
   "source": [
    "df_sleep.head()"
   ]
  },
  {
   "cell_type": "code",
   "execution_count": 551,
   "metadata": {},
   "outputs": [
    {
     "data": {
      "text/plain": [
       "(98, 6)"
      ]
     },
     "execution_count": 551,
     "metadata": {},
     "output_type": "execute_result"
    }
   ],
   "source": [
    "df_sleep.shape"
   ]
  },
  {
   "cell_type": "code",
   "execution_count": 552,
   "metadata": {},
   "outputs": [],
   "source": [
    "query = \"\"\"\n",
    "            select \n",
    "                EndTime as Date, \n",
    "                sum(MinutesAsleep) as MinutesAsleep,\n",
    "                sum(MinutesAwake) as MinutesAwake,\n",
    "                sum(NumberOfAwakenings) as NumberOfAwakenings,\n",
    "                sum(TimeinBed) as TimeInBed\n",
    "            from \n",
    "                df_sleep\n",
    "            group by \n",
    "               EndTime\n",
    "        \"\"\""
   ]
  },
  {
   "cell_type": "code",
   "execution_count": 553,
   "metadata": {},
   "outputs": [],
   "source": [
    "df_sleep_aggregated = sqldf(query, globals())"
   ]
  },
  {
   "cell_type": "code",
   "execution_count": 554,
   "metadata": {},
   "outputs": [
    {
     "data": {
      "text/html": [
       "<div>\n",
       "<style scoped>\n",
       "    .dataframe tbody tr th:only-of-type {\n",
       "        vertical-align: middle;\n",
       "    }\n",
       "\n",
       "    .dataframe tbody tr th {\n",
       "        vertical-align: top;\n",
       "    }\n",
       "\n",
       "    .dataframe thead th {\n",
       "        text-align: right;\n",
       "    }\n",
       "</style>\n",
       "<table border=\"1\" class=\"dataframe\">\n",
       "  <thead>\n",
       "    <tr style=\"text-align: right;\">\n",
       "      <th></th>\n",
       "      <th>Date</th>\n",
       "      <th>MinutesAsleep</th>\n",
       "      <th>MinutesAwake</th>\n",
       "      <th>NumberOfAwakenings</th>\n",
       "      <th>TimeInBed</th>\n",
       "    </tr>\n",
       "  </thead>\n",
       "  <tbody>\n",
       "    <tr>\n",
       "      <td>0</td>\n",
       "      <td>2020-01-19</td>\n",
       "      <td>375</td>\n",
       "      <td>13</td>\n",
       "      <td>6</td>\n",
       "      <td>404</td>\n",
       "    </tr>\n",
       "    <tr>\n",
       "      <td>1</td>\n",
       "      <td>2020-01-20</td>\n",
       "      <td>345</td>\n",
       "      <td>44</td>\n",
       "      <td>2</td>\n",
       "      <td>389</td>\n",
       "    </tr>\n",
       "    <tr>\n",
       "      <td>2</td>\n",
       "      <td>2020-01-21</td>\n",
       "      <td>418</td>\n",
       "      <td>53</td>\n",
       "      <td>5</td>\n",
       "      <td>475</td>\n",
       "    </tr>\n",
       "    <tr>\n",
       "      <td>3</td>\n",
       "      <td>2020-01-22</td>\n",
       "      <td>352</td>\n",
       "      <td>39</td>\n",
       "      <td>3</td>\n",
       "      <td>391</td>\n",
       "    </tr>\n",
       "    <tr>\n",
       "      <td>4</td>\n",
       "      <td>2020-01-23</td>\n",
       "      <td>376</td>\n",
       "      <td>45</td>\n",
       "      <td>2</td>\n",
       "      <td>427</td>\n",
       "    </tr>\n",
       "  </tbody>\n",
       "</table>\n",
       "</div>"
      ],
      "text/plain": [
       "         Date  MinutesAsleep  MinutesAwake  NumberOfAwakenings  TimeInBed\n",
       "0  2020-01-19            375            13                   6        404\n",
       "1  2020-01-20            345            44                   2        389\n",
       "2  2020-01-21            418            53                   5        475\n",
       "3  2020-01-22            352            39                   3        391\n",
       "4  2020-01-23            376            45                   2        427"
      ]
     },
     "execution_count": 554,
     "metadata": {},
     "output_type": "execute_result"
    }
   ],
   "source": [
    "df_sleep_aggregated.head()"
   ]
  },
  {
   "cell_type": "code",
   "execution_count": 555,
   "metadata": {},
   "outputs": [
    {
     "data": {
      "text/plain": [
       "(78, 5)"
      ]
     },
     "execution_count": 555,
     "metadata": {},
     "output_type": "execute_result"
    }
   ],
   "source": [
    "df_sleep_aggregated.shape"
   ]
  },
  {
   "cell_type": "code",
   "execution_count": 556,
   "metadata": {},
   "outputs": [
    {
     "data": {
      "text/plain": [
       "Date                  object\n",
       "MinutesAsleep          int64\n",
       "MinutesAwake           int64\n",
       "NumberOfAwakenings     int64\n",
       "TimeInBed              int64\n",
       "dtype: object"
      ]
     },
     "execution_count": 556,
     "metadata": {},
     "output_type": "execute_result"
    }
   ],
   "source": [
    "df_sleep_aggregated.dtypes"
   ]
  },
  {
   "cell_type": "code",
   "execution_count": 557,
   "metadata": {},
   "outputs": [],
   "source": [
    "df_sleep_aggregated['Date']= pd.to_datetime(df_sleep_aggregated['Date']) "
   ]
  },
  {
   "cell_type": "code",
   "execution_count": 558,
   "metadata": {},
   "outputs": [],
   "source": [
    "day_name = ['Monday', 'Tuesday', 'Wednesday', 'Thursday', 'Friday', 'Saturday','Sunday']\n",
    "df_sleep_aggregated['Day'] = df_sleep_aggregated['Date'].apply(lambda x: day_name[x.weekday()])"
   ]
  },
  {
   "cell_type": "code",
   "execution_count": 559,
   "metadata": {},
   "outputs": [
    {
     "data": {
      "text/html": [
       "<div>\n",
       "<style scoped>\n",
       "    .dataframe tbody tr th:only-of-type {\n",
       "        vertical-align: middle;\n",
       "    }\n",
       "\n",
       "    .dataframe tbody tr th {\n",
       "        vertical-align: top;\n",
       "    }\n",
       "\n",
       "    .dataframe thead th {\n",
       "        text-align: right;\n",
       "    }\n",
       "</style>\n",
       "<table border=\"1\" class=\"dataframe\">\n",
       "  <thead>\n",
       "    <tr style=\"text-align: right;\">\n",
       "      <th></th>\n",
       "      <th>Date</th>\n",
       "      <th>MinutesAsleep</th>\n",
       "      <th>MinutesAwake</th>\n",
       "      <th>NumberOfAwakenings</th>\n",
       "      <th>TimeInBed</th>\n",
       "      <th>Day</th>\n",
       "    </tr>\n",
       "  </thead>\n",
       "  <tbody>\n",
       "    <tr>\n",
       "      <td>0</td>\n",
       "      <td>2020-01-19</td>\n",
       "      <td>375</td>\n",
       "      <td>13</td>\n",
       "      <td>6</td>\n",
       "      <td>404</td>\n",
       "      <td>Sunday</td>\n",
       "    </tr>\n",
       "    <tr>\n",
       "      <td>1</td>\n",
       "      <td>2020-01-20</td>\n",
       "      <td>345</td>\n",
       "      <td>44</td>\n",
       "      <td>2</td>\n",
       "      <td>389</td>\n",
       "      <td>Monday</td>\n",
       "    </tr>\n",
       "    <tr>\n",
       "      <td>2</td>\n",
       "      <td>2020-01-21</td>\n",
       "      <td>418</td>\n",
       "      <td>53</td>\n",
       "      <td>5</td>\n",
       "      <td>475</td>\n",
       "      <td>Tuesday</td>\n",
       "    </tr>\n",
       "    <tr>\n",
       "      <td>3</td>\n",
       "      <td>2020-01-22</td>\n",
       "      <td>352</td>\n",
       "      <td>39</td>\n",
       "      <td>3</td>\n",
       "      <td>391</td>\n",
       "      <td>Wednesday</td>\n",
       "    </tr>\n",
       "    <tr>\n",
       "      <td>4</td>\n",
       "      <td>2020-01-23</td>\n",
       "      <td>376</td>\n",
       "      <td>45</td>\n",
       "      <td>2</td>\n",
       "      <td>427</td>\n",
       "      <td>Thursday</td>\n",
       "    </tr>\n",
       "  </tbody>\n",
       "</table>\n",
       "</div>"
      ],
      "text/plain": [
       "        Date  MinutesAsleep  MinutesAwake  NumberOfAwakenings  TimeInBed  \\\n",
       "0 2020-01-19            375            13                   6        404   \n",
       "1 2020-01-20            345            44                   2        389   \n",
       "2 2020-01-21            418            53                   5        475   \n",
       "3 2020-01-22            352            39                   3        391   \n",
       "4 2020-01-23            376            45                   2        427   \n",
       "\n",
       "         Day  \n",
       "0     Sunday  \n",
       "1     Monday  \n",
       "2    Tuesday  \n",
       "3  Wednesday  \n",
       "4   Thursday  "
      ]
     },
     "execution_count": 559,
     "metadata": {},
     "output_type": "execute_result"
    }
   ],
   "source": [
    "df_sleep_aggregated.head()"
   ]
  },
  {
   "cell_type": "code",
   "execution_count": 560,
   "metadata": {},
   "outputs": [],
   "source": [
    "df_sleep_aggregated.sort_values(\"Date\", axis = 0, ascending = True, \n",
    "                 inplace = True) "
   ]
  },
  {
   "cell_type": "code",
   "execution_count": 561,
   "metadata": {},
   "outputs": [
    {
     "data": {
      "text/html": [
       "<div>\n",
       "<style scoped>\n",
       "    .dataframe tbody tr th:only-of-type {\n",
       "        vertical-align: middle;\n",
       "    }\n",
       "\n",
       "    .dataframe tbody tr th {\n",
       "        vertical-align: top;\n",
       "    }\n",
       "\n",
       "    .dataframe thead th {\n",
       "        text-align: right;\n",
       "    }\n",
       "</style>\n",
       "<table border=\"1\" class=\"dataframe\">\n",
       "  <thead>\n",
       "    <tr style=\"text-align: right;\">\n",
       "      <th></th>\n",
       "      <th>Date</th>\n",
       "      <th>MinutesAsleep</th>\n",
       "      <th>MinutesAwake</th>\n",
       "      <th>NumberOfAwakenings</th>\n",
       "      <th>TimeInBed</th>\n",
       "      <th>Day</th>\n",
       "    </tr>\n",
       "  </thead>\n",
       "  <tbody>\n",
       "    <tr>\n",
       "      <td>0</td>\n",
       "      <td>2020-01-19</td>\n",
       "      <td>375</td>\n",
       "      <td>13</td>\n",
       "      <td>6</td>\n",
       "      <td>404</td>\n",
       "      <td>Sunday</td>\n",
       "    </tr>\n",
       "    <tr>\n",
       "      <td>1</td>\n",
       "      <td>2020-01-20</td>\n",
       "      <td>345</td>\n",
       "      <td>44</td>\n",
       "      <td>2</td>\n",
       "      <td>389</td>\n",
       "      <td>Monday</td>\n",
       "    </tr>\n",
       "    <tr>\n",
       "      <td>2</td>\n",
       "      <td>2020-01-21</td>\n",
       "      <td>418</td>\n",
       "      <td>53</td>\n",
       "      <td>5</td>\n",
       "      <td>475</td>\n",
       "      <td>Tuesday</td>\n",
       "    </tr>\n",
       "    <tr>\n",
       "      <td>3</td>\n",
       "      <td>2020-01-22</td>\n",
       "      <td>352</td>\n",
       "      <td>39</td>\n",
       "      <td>3</td>\n",
       "      <td>391</td>\n",
       "      <td>Wednesday</td>\n",
       "    </tr>\n",
       "    <tr>\n",
       "      <td>4</td>\n",
       "      <td>2020-01-23</td>\n",
       "      <td>376</td>\n",
       "      <td>45</td>\n",
       "      <td>2</td>\n",
       "      <td>427</td>\n",
       "      <td>Thursday</td>\n",
       "    </tr>\n",
       "  </tbody>\n",
       "</table>\n",
       "</div>"
      ],
      "text/plain": [
       "        Date  MinutesAsleep  MinutesAwake  NumberOfAwakenings  TimeInBed  \\\n",
       "0 2020-01-19            375            13                   6        404   \n",
       "1 2020-01-20            345            44                   2        389   \n",
       "2 2020-01-21            418            53                   5        475   \n",
       "3 2020-01-22            352            39                   3        391   \n",
       "4 2020-01-23            376            45                   2        427   \n",
       "\n",
       "         Day  \n",
       "0     Sunday  \n",
       "1     Monday  \n",
       "2    Tuesday  \n",
       "3  Wednesday  \n",
       "4   Thursday  "
      ]
     },
     "execution_count": 561,
     "metadata": {},
     "output_type": "execute_result"
    }
   ],
   "source": [
    "df_sleep_aggregated.head()"
   ]
  },
  {
   "cell_type": "code",
   "execution_count": 562,
   "metadata": {},
   "outputs": [],
   "source": [
    "df_sleep = df_sleep_aggregated"
   ]
  },
  {
   "cell_type": "code",
   "execution_count": 563,
   "metadata": {},
   "outputs": [],
   "source": [
    "df_sleep_preLockdown = df_sleep[(df_sleep['Date'] >= '2020-02-13') & (df_sleep['Date'] <= '2020-03-15')\n",
    "                                      & (~(df_sleep['Day'].isin(['Saturday','Sunday'])) )]"
   ]
  },
  {
   "cell_type": "code",
   "execution_count": 564,
   "metadata": {},
   "outputs": [
    {
     "data": {
      "text/html": [
       "<div>\n",
       "<style scoped>\n",
       "    .dataframe tbody tr th:only-of-type {\n",
       "        vertical-align: middle;\n",
       "    }\n",
       "\n",
       "    .dataframe tbody tr th {\n",
       "        vertical-align: top;\n",
       "    }\n",
       "\n",
       "    .dataframe thead th {\n",
       "        text-align: right;\n",
       "    }\n",
       "</style>\n",
       "<table border=\"1\" class=\"dataframe\">\n",
       "  <thead>\n",
       "    <tr style=\"text-align: right;\">\n",
       "      <th></th>\n",
       "      <th>Date</th>\n",
       "      <th>MinutesAsleep</th>\n",
       "      <th>MinutesAwake</th>\n",
       "      <th>NumberOfAwakenings</th>\n",
       "      <th>TimeInBed</th>\n",
       "      <th>Day</th>\n",
       "    </tr>\n",
       "  </thead>\n",
       "  <tbody>\n",
       "    <tr>\n",
       "      <td>25</td>\n",
       "      <td>2020-02-13</td>\n",
       "      <td>275</td>\n",
       "      <td>21</td>\n",
       "      <td>4</td>\n",
       "      <td>303</td>\n",
       "      <td>Thursday</td>\n",
       "    </tr>\n",
       "    <tr>\n",
       "      <td>26</td>\n",
       "      <td>2020-02-14</td>\n",
       "      <td>461</td>\n",
       "      <td>50</td>\n",
       "      <td>0</td>\n",
       "      <td>512</td>\n",
       "      <td>Friday</td>\n",
       "    </tr>\n",
       "    <tr>\n",
       "      <td>29</td>\n",
       "      <td>2020-02-17</td>\n",
       "      <td>376</td>\n",
       "      <td>32</td>\n",
       "      <td>1</td>\n",
       "      <td>408</td>\n",
       "      <td>Monday</td>\n",
       "    </tr>\n",
       "    <tr>\n",
       "      <td>30</td>\n",
       "      <td>2020-02-18</td>\n",
       "      <td>323</td>\n",
       "      <td>31</td>\n",
       "      <td>2</td>\n",
       "      <td>356</td>\n",
       "      <td>Tuesday</td>\n",
       "    </tr>\n",
       "    <tr>\n",
       "      <td>31</td>\n",
       "      <td>2020-02-20</td>\n",
       "      <td>133</td>\n",
       "      <td>9</td>\n",
       "      <td>0</td>\n",
       "      <td>142</td>\n",
       "      <td>Thursday</td>\n",
       "    </tr>\n",
       "  </tbody>\n",
       "</table>\n",
       "</div>"
      ],
      "text/plain": [
       "         Date  MinutesAsleep  MinutesAwake  NumberOfAwakenings  TimeInBed  \\\n",
       "25 2020-02-13            275            21                   4        303   \n",
       "26 2020-02-14            461            50                   0        512   \n",
       "29 2020-02-17            376            32                   1        408   \n",
       "30 2020-02-18            323            31                   2        356   \n",
       "31 2020-02-20            133             9                   0        142   \n",
       "\n",
       "         Day  \n",
       "25  Thursday  \n",
       "26    Friday  \n",
       "29    Monday  \n",
       "30   Tuesday  \n",
       "31  Thursday  "
      ]
     },
     "execution_count": 564,
     "metadata": {},
     "output_type": "execute_result"
    }
   ],
   "source": [
    "df_sleep_preLockdown.head()"
   ]
  },
  {
   "cell_type": "code",
   "execution_count": 565,
   "metadata": {},
   "outputs": [],
   "source": [
    "df_sleep_postLockdown = df_sleep[(df_sleep['Date'] >= '2020-03-16') &\n",
    "                                       (~(df_sleep['Day'].isin(['Saturday','Sunday'])) )]"
   ]
  },
  {
   "cell_type": "code",
   "execution_count": 584,
   "metadata": {},
   "outputs": [
    {
     "data": {
      "text/plain": [
       "MinutesAsleep         353.190476\n",
       "MinutesAwake           20.761905\n",
       "NumberOfAwakenings      3.190476\n",
       "TimeInBed             377.000000\n",
       "dtype: float64"
      ]
     },
     "execution_count": 584,
     "metadata": {},
     "output_type": "execute_result"
    }
   ],
   "source": [
    "df_sleep_preLockdown.mean()"
   ]
  },
  {
   "cell_type": "code",
   "execution_count": 585,
   "metadata": {},
   "outputs": [
    {
     "data": {
      "text/plain": [
       "MinutesAsleep         103.005155\n",
       "MinutesAwake           12.605177\n",
       "NumberOfAwakenings      2.960051\n",
       "TimeInBed             108.046286\n",
       "dtype: float64"
      ]
     },
     "execution_count": 585,
     "metadata": {},
     "output_type": "execute_result"
    }
   ],
   "source": [
    "df_sleep_preLockdown.std()"
   ]
  },
  {
   "cell_type": "code",
   "execution_count": 586,
   "metadata": {},
   "outputs": [
    {
     "data": {
      "text/plain": [
       "MinutesAsleep         339.352941\n",
       "MinutesAwake           24.823529\n",
       "NumberOfAwakenings      2.705882\n",
       "TimeInBed             368.117647\n",
       "dtype: float64"
      ]
     },
     "execution_count": 586,
     "metadata": {},
     "output_type": "execute_result"
    }
   ],
   "source": [
    "df_sleep_postLockdown.mean()"
   ]
  },
  {
   "cell_type": "code",
   "execution_count": 587,
   "metadata": {},
   "outputs": [
    {
     "data": {
      "text/plain": [
       "MinutesAsleep         70.168495\n",
       "MinutesAwake          14.081172\n",
       "NumberOfAwakenings     2.312053\n",
       "TimeInBed             80.071751\n",
       "dtype: float64"
      ]
     },
     "execution_count": 587,
     "metadata": {},
     "output_type": "execute_result"
    }
   ],
   "source": [
    "df_sleep_postLockdown.std()"
   ]
  },
  {
   "cell_type": "code",
   "execution_count": 568,
   "metadata": {},
   "outputs": [
    {
     "data": {
      "text/html": [
       "<div>\n",
       "<style scoped>\n",
       "    .dataframe tbody tr th:only-of-type {\n",
       "        vertical-align: middle;\n",
       "    }\n",
       "\n",
       "    .dataframe tbody tr th {\n",
       "        vertical-align: top;\n",
       "    }\n",
       "\n",
       "    .dataframe thead th {\n",
       "        text-align: right;\n",
       "    }\n",
       "</style>\n",
       "<table border=\"1\" class=\"dataframe\">\n",
       "  <thead>\n",
       "    <tr style=\"text-align: right;\">\n",
       "      <th></th>\n",
       "      <th>Date</th>\n",
       "      <th>Calories Burned</th>\n",
       "      <th>Steps</th>\n",
       "      <th>Distance</th>\n",
       "      <th>Floors</th>\n",
       "      <th>Minutes Sedentary</th>\n",
       "      <th>Minutes Lightly Active</th>\n",
       "      <th>Minutes Fairly Active</th>\n",
       "      <th>Minutes Very Active</th>\n",
       "      <th>Activity Calories</th>\n",
       "      <th>Day</th>\n",
       "    </tr>\n",
       "  </thead>\n",
       "  <tbody>\n",
       "    <tr>\n",
       "      <td>43</td>\n",
       "      <td>2020-02-13</td>\n",
       "      <td>2755</td>\n",
       "      <td>16459</td>\n",
       "      <td>11.44</td>\n",
       "      <td>0</td>\n",
       "      <td>740</td>\n",
       "      <td>305</td>\n",
       "      <td>46</td>\n",
       "      <td>46</td>\n",
       "      <td>740</td>\n",
       "      <td>Thursday</td>\n",
       "    </tr>\n",
       "    <tr>\n",
       "      <td>44</td>\n",
       "      <td>2020-02-14</td>\n",
       "      <td>2896</td>\n",
       "      <td>19163</td>\n",
       "      <td>13.43</td>\n",
       "      <td>0</td>\n",
       "      <td>495</td>\n",
       "      <td>342</td>\n",
       "      <td>70</td>\n",
       "      <td>21</td>\n",
       "      <td>495</td>\n",
       "      <td>Friday</td>\n",
       "    </tr>\n",
       "    <tr>\n",
       "      <td>47</td>\n",
       "      <td>2020-02-17</td>\n",
       "      <td>2229</td>\n",
       "      <td>9037</td>\n",
       "      <td>6.29</td>\n",
       "      <td>0</td>\n",
       "      <td>780</td>\n",
       "      <td>197</td>\n",
       "      <td>30</td>\n",
       "      <td>25</td>\n",
       "      <td>780</td>\n",
       "      <td>Monday</td>\n",
       "    </tr>\n",
       "    <tr>\n",
       "      <td>48</td>\n",
       "      <td>2020-02-18</td>\n",
       "      <td>2437</td>\n",
       "      <td>11677</td>\n",
       "      <td>8.24</td>\n",
       "      <td>0</td>\n",
       "      <td>759</td>\n",
       "      <td>295</td>\n",
       "      <td>16</td>\n",
       "      <td>14</td>\n",
       "      <td>759</td>\n",
       "      <td>Tuesday</td>\n",
       "    </tr>\n",
       "    <tr>\n",
       "      <td>49</td>\n",
       "      <td>2020-02-19</td>\n",
       "      <td>2330</td>\n",
       "      <td>9962</td>\n",
       "      <td>6.92</td>\n",
       "      <td>0</td>\n",
       "      <td>1133</td>\n",
       "      <td>281</td>\n",
       "      <td>16</td>\n",
       "      <td>10</td>\n",
       "      <td>1133</td>\n",
       "      <td>Wednesday</td>\n",
       "    </tr>\n",
       "  </tbody>\n",
       "</table>\n",
       "</div>"
      ],
      "text/plain": [
       "         Date  Calories Burned  Steps  Distance  Floors  Minutes Sedentary  \\\n",
       "43 2020-02-13             2755  16459     11.44       0                740   \n",
       "44 2020-02-14             2896  19163     13.43       0                495   \n",
       "47 2020-02-17             2229   9037      6.29       0                780   \n",
       "48 2020-02-18             2437  11677      8.24       0                759   \n",
       "49 2020-02-19             2330   9962      6.92       0               1133   \n",
       "\n",
       "    Minutes Lightly Active  Minutes Fairly Active  Minutes Very Active  \\\n",
       "43                     305                     46                   46   \n",
       "44                     342                     70                   21   \n",
       "47                     197                     30                   25   \n",
       "48                     295                     16                   14   \n",
       "49                     281                     16                   10   \n",
       "\n",
       "    Activity Calories        Day  \n",
       "43                740   Thursday  \n",
       "44                495     Friday  \n",
       "47                780     Monday  \n",
       "48                759    Tuesday  \n",
       "49               1133  Wednesday  "
      ]
     },
     "execution_count": 568,
     "metadata": {},
     "output_type": "execute_result"
    }
   ],
   "source": [
    "df_exercise_preLockdown.head()"
   ]
  },
  {
   "cell_type": "code",
   "execution_count": 569,
   "metadata": {},
   "outputs": [
    {
     "data": {
      "image/png": "[encoded data removed]",
      "text/plain": [
       "<Figure size 576x432 with 1 Axes>"
      ]
     },
     "metadata": {
      "needs_background": "light"
     },
     "output_type": "display_data"
    },
    {
     "name": "stdout",
     "output_type": "stream",
     "text": [
      "PreLockdown\n",
      "2475.0 259.84431236158827\n",
      "PostLockdown\n",
      "2290.0714285714284 328.9108771071049\n"
     ]
    }
   ],
   "source": [
    "metric = 'Calories Burned'\n",
    "f, ax = plt.subplots(figsize=(8,6))\n",
    "bins = 21\n",
    "percentile_bins = np.linspace(0,100,bins)\n",
    "pre_bins = np.percentile(df_exercise_preLockdown[metric], percentile_bins)\n",
    "\n",
    "post_bins = np.percentile(df_exercise_postLockdown[metric], percentile_bins)\n",
    "sns.distplot(pre_bins,kde_kws={ \"lw\": 2, \"label\": \"Pre Lockdown\"},axlabel=metric)\n",
    "sns.distplot(post_bins,kde_kws={ \"lw\": 2, \"label\": \"Post Lockdown\"})\n",
    "\n",
    "plt.show()\n",
    "\n",
    "print(\"PreLockdown\")\n",
    "print(df_exercise_preLockdown[metric].mean(),df_exercise_preLockdown[metric].std())\n",
    "print(\"PostLockdown\")\n",
    "print(df_exercise_postLockdown[metric].mean(),df_exercise_postLockdown[metric].std())"
   ]
  },
  {
   "cell_type": "code",
   "execution_count": 570,
   "metadata": {},
   "outputs": [
    {
     "data": {
      "image/png": "[encoded data removed]",
      "text/plain": [
       "<Figure size 576x432 with 1 Axes>"
      ]
     },
     "metadata": {
      "needs_background": "light"
     },
     "output_type": "display_data"
    },
    {
     "name": "stdout",
     "output_type": "stream",
     "text": [
      "PreLockdown\n",
      "12463.3125 3993.4418691775145\n",
      "PostLockdown\n",
      "9702.642857142857 5101.300046460819\n"
     ]
    }
   ],
   "source": [
    "metric = 'Steps'\n",
    "f, ax = plt.subplots(figsize=(8,6))\n",
    "bins = 21\n",
    "percentile_bins = np.linspace(0,100,bins)\n",
    "pre_bins = np.percentile(df_exercise_preLockdown[metric], percentile_bins)\n",
    "\n",
    "post_bins = np.percentile(df_exercise_postLockdown[metric], percentile_bins)\n",
    "sns.distplot(pre_bins,kde_kws={ \"lw\": 2, \"label\": \"Pre Lockdown\"},axlabel=metric)\n",
    "sns.distplot(post_bins,kde_kws={ \"lw\": 2, \"label\": \"Post Lockdown\"})\n",
    "\n",
    "plt.show()\n",
    "\n",
    "print(\"PreLockdown\")\n",
    "print(df_exercise_preLockdown[metric].mean(),df_exercise_preLockdown[metric].std())\n",
    "print(\"PostLockdown\")\n",
    "print(df_exercise_postLockdown[metric].mean(),df_exercise_postLockdown[metric].std())"
   ]
  },
  {
   "cell_type": "code",
   "execution_count": 571,
   "metadata": {},
   "outputs": [
    {
     "data": {
      "image/png": "[encoded data removed]",
      "text/plain": [
       "<Figure size 576x432 with 1 Axes>"
      ]
     },
     "metadata": {
      "needs_background": "light"
     },
     "output_type": "display_data"
    },
    {
     "name": "stdout",
     "output_type": "stream",
     "text": [
      "PreLockdown\n",
      "8.682500000000001 2.776262475583556\n",
      "PostLockdown\n",
      "6.743571428571428 3.5487454374601426\n"
     ]
    }
   ],
   "source": [
    "metric = 'Distance'\n",
    "f, ax = plt.subplots(figsize=(8,6))\n",
    "bins = 21\n",
    "percentile_bins = np.linspace(0,100,bins)\n",
    "pre_bins = np.percentile(df_exercise_preLockdown[metric], percentile_bins)\n",
    "\n",
    "post_bins = np.percentile(df_exercise_postLockdown[metric], percentile_bins)\n",
    "sns.distplot(pre_bins,kde_kws={ \"lw\": 2, \"label\": \"Pre Lockdown\"},axlabel=metric)\n",
    "sns.distplot(post_bins,kde_kws={ \"lw\": 2, \"label\": \"Post Lockdown\"})\n",
    "\n",
    "plt.show()\n",
    "\n",
    "print(\"PreLockdown\")\n",
    "print(df_exercise_preLockdown[metric].mean(),df_exercise_preLockdown[metric].std())\n",
    "print(\"PostLockdown\")\n",
    "print(df_exercise_postLockdown[metric].mean(),df_exercise_postLockdown[metric].std())"
   ]
  },
  {
   "cell_type": "code",
   "execution_count": 572,
   "metadata": {},
   "outputs": [
    {
     "data": {
      "text/html": [
       "<div>\n",
       "<style scoped>\n",
       "    .dataframe tbody tr th:only-of-type {\n",
       "        vertical-align: middle;\n",
       "    }\n",
       "\n",
       "    .dataframe tbody tr th {\n",
       "        vertical-align: top;\n",
       "    }\n",
       "\n",
       "    .dataframe thead th {\n",
       "        text-align: right;\n",
       "    }\n",
       "</style>\n",
       "<table border=\"1\" class=\"dataframe\">\n",
       "  <thead>\n",
       "    <tr style=\"text-align: right;\">\n",
       "      <th></th>\n",
       "      <th>Calories Burned</th>\n",
       "      <th>Steps</th>\n",
       "      <th>Distance</th>\n",
       "    </tr>\n",
       "  </thead>\n",
       "  <tbody>\n",
       "    <tr>\n",
       "      <td>Calories Burned</td>\n",
       "      <td>1.000000</td>\n",
       "      <td>0.994898</td>\n",
       "      <td>0.995085</td>\n",
       "    </tr>\n",
       "    <tr>\n",
       "      <td>Steps</td>\n",
       "      <td>0.994898</td>\n",
       "      <td>1.000000</td>\n",
       "      <td>0.999851</td>\n",
       "    </tr>\n",
       "    <tr>\n",
       "      <td>Distance</td>\n",
       "      <td>0.995085</td>\n",
       "      <td>0.999851</td>\n",
       "      <td>1.000000</td>\n",
       "    </tr>\n",
       "  </tbody>\n",
       "</table>\n",
       "</div>"
      ],
      "text/plain": [
       "                 Calories Burned     Steps  Distance\n",
       "Calories Burned         1.000000  0.994898  0.995085\n",
       "Steps                   0.994898  1.000000  0.999851\n",
       "Distance                0.995085  0.999851  1.000000"
      ]
     },
     "execution_count": 572,
     "metadata": {},
     "output_type": "execute_result"
    }
   ],
   "source": [
    "df_exercise_preLockdown[['Calories Burned','Steps','Distance']].corr()"
   ]
  },
  {
   "cell_type": "code",
   "execution_count": 573,
   "metadata": {},
   "outputs": [
    {
     "data": {
      "text/html": [
       "<div>\n",
       "<style scoped>\n",
       "    .dataframe tbody tr th:only-of-type {\n",
       "        vertical-align: middle;\n",
       "    }\n",
       "\n",
       "    .dataframe tbody tr th {\n",
       "        vertical-align: top;\n",
       "    }\n",
       "\n",
       "    .dataframe thead th {\n",
       "        text-align: right;\n",
       "    }\n",
       "</style>\n",
       "<table border=\"1\" class=\"dataframe\">\n",
       "  <thead>\n",
       "    <tr style=\"text-align: right;\">\n",
       "      <th></th>\n",
       "      <th>Calories Burned</th>\n",
       "      <th>Steps</th>\n",
       "      <th>Distance</th>\n",
       "    </tr>\n",
       "  </thead>\n",
       "  <tbody>\n",
       "    <tr>\n",
       "      <td>Calories Burned</td>\n",
       "      <td>1.000000</td>\n",
       "      <td>0.991998</td>\n",
       "      <td>0.992385</td>\n",
       "    </tr>\n",
       "    <tr>\n",
       "      <td>Steps</td>\n",
       "      <td>0.991998</td>\n",
       "      <td>1.000000</td>\n",
       "      <td>0.999959</td>\n",
       "    </tr>\n",
       "    <tr>\n",
       "      <td>Distance</td>\n",
       "      <td>0.992385</td>\n",
       "      <td>0.999959</td>\n",
       "      <td>1.000000</td>\n",
       "    </tr>\n",
       "  </tbody>\n",
       "</table>\n",
       "</div>"
      ],
      "text/plain": [
       "                 Calories Burned     Steps  Distance\n",
       "Calories Burned         1.000000  0.991998  0.992385\n",
       "Steps                   0.991998  1.000000  0.999959\n",
       "Distance                0.992385  0.999959  1.000000"
      ]
     },
     "execution_count": 573,
     "metadata": {},
     "output_type": "execute_result"
    }
   ],
   "source": [
    "df_exercise_postLockdown[['Calories Burned','Steps','Distance']].corr()"
   ]
  },
  {
   "cell_type": "code",
   "execution_count": 574,
   "metadata": {},
   "outputs": [],
   "source": [
    "def to_proper_format(value):\n",
    "    if(type(value)!= np.ndarray):\n",
    "        hours = int(value/60)\n",
    "        minutes = math.ceil(value % 60)\n",
    "        if hours == 0:\n",
    "            return [\"{} minutes\".format(minutes)]\n",
    "        return [\"{} hours {} minutes\".format(hours,minutes)]\n",
    "    else:\n",
    "        for v in value:\n",
    "            if(len(value) == 1):\n",
    "                return to_proper_format(v)\n",
    "            else:\n",
    "                return to_proper_format(v) + to_proper_format(value[1:])"
   ]
  },
  {
   "cell_type": "code",
   "execution_count": 575,
   "metadata": {},
   "outputs": [
    {
     "data": {
      "image/png": "[encoded data removed]",
      "text/plain": [
       "<Figure size 576x432 with 1 Axes>"
      ]
     },
     "metadata": {
      "needs_background": "light"
     },
     "output_type": "display_data"
    },
    {
     "name": "stdout",
     "output_type": "stream",
     "text": [
      "PreLockdown\n",
      "353.1904761904762 103.00515474849743\n",
      "PostLockdown\n",
      "339.3529411764706 70.16849468998764\n",
      "PreLockdown\n",
      "['5 hours 54 minutes'] ['1 hours 44 minutes']\n",
      "PostLockdown\n",
      "['5 hours 40 minutes'] ['1 hours 11 minutes']\n"
     ]
    }
   ],
   "source": [
    "metric = 'MinutesAsleep'\n",
    "f, ax = plt.subplots(figsize=(8,6))\n",
    "bins = 21\n",
    "percentile_bins = np.linspace(0,100,bins)\n",
    "pre_bins = np.percentile(df_sleep_preLockdown[metric], percentile_bins)\n",
    "\n",
    "post_bins = np.percentile(df_sleep_postLockdown[metric], percentile_bins)\n",
    "sns.distplot(pre_bins,kde_kws={ \"lw\": 2, \"label\": \"Pre Lockdown\"},axlabel=metric)\n",
    "sns.distplot(post_bins,kde_kws={ \"lw\": 2, \"label\": \"Post Lockdown\"})\n",
    "\n",
    "plt.show()\n",
    "\n",
    "print(\"PreLockdown\")\n",
    "print(df_sleep_preLockdown[metric].mean(),df_sleep_preLockdown[metric].std())\n",
    "print(\"PostLockdown\")\n",
    "print(df_sleep_postLockdown[metric].mean(),df_sleep_postLockdown[metric].std())\n",
    "\n",
    "\n",
    "print(\"PreLockdown\")\n",
    "print(to_proper_format(df_sleep_preLockdown[metric].mean()),to_proper_format(df_sleep_preLockdown[metric].std()))\n",
    "print(\"PostLockdown\")\n",
    "print(to_proper_format(df_sleep_postLockdown[metric].mean()),to_proper_format(df_sleep_postLockdown[metric].std()))"
   ]
  },
  {
   "cell_type": "code",
   "execution_count": 576,
   "metadata": {},
   "outputs": [
    {
     "data": {
      "text/plain": [
       "<matplotlib.axes._subplots.AxesSubplot at 0x13c598190>"
      ]
     },
     "execution_count": 576,
     "metadata": {},
     "output_type": "execute_result"
    },
    {
     "data": {
      "image/png": "[encoded data removed]",
      "text/plain": [
       "<Figure size 576x576 with 1 Axes>"
      ]
     },
     "metadata": {
      "needs_background": "light"
     },
     "output_type": "display_data"
    }
   ],
   "source": [
    "metric = 'Calories Burned'\n",
    "f, ax = plt.subplots(figsize=(8,8))\n",
    "bins = 21\n",
    "percentile_bins = np.linspace(0,100,bins)\n",
    "pre_bins = np.percentile(df_exercise_preLockdown[metric], percentile_bins)\n",
    "\n",
    "post_bins = np.percentile(df_exercise_postLockdown[metric], percentile_bins)\n",
    "\n",
    "period = ['pre'] * len(pre_bins)   + ['post'] * len(post_bins) \n",
    "\n",
    "mdict = {'period':period,metric:list(pre_bins) + list(post_bins) }\n",
    "\n",
    "df_combine = pd.DataFrame(mdict)\n",
    "\n",
    "sns.boxplot(x='period', y=metric, hue='period', data=df_combine)"
   ]
  },
  {
   "cell_type": "code",
   "execution_count": 577,
   "metadata": {},
   "outputs": [
    {
     "data": {
      "text/plain": [
       "<matplotlib.axes._subplots.AxesSubplot at 0x14404fa90>"
      ]
     },
     "execution_count": 577,
     "metadata": {},
     "output_type": "execute_result"
    },
    {
     "data": {
      "image/png": "[encoded data removed]",
      "text/plain": [
       "<Figure size 576x576 with 1 Axes>"
      ]
     },
     "metadata": {
      "needs_background": "light"
     },
     "output_type": "display_data"
    }
   ],
   "source": [
    "metric = 'MinutesAsleep'\n",
    "f, ax = plt.subplots(figsize=(8,8))\n",
    "bins = 21\n",
    "percentile_bins = np.linspace(0,100,bins)\n",
    "pre_bins = np.percentile(df_sleep_preLockdown[metric], percentile_bins)\n",
    "\n",
    "post_bins = np.percentile(df_sleep_postLockdown[metric], percentile_bins)\n",
    "\n",
    "period = ['pre'] * len(pre_bins)   + ['post'] * len(post_bins) \n",
    "\n",
    "mdict = {'period':period,metric:list(pre_bins) + list(post_bins) }\n",
    "\n",
    "df_combine = pd.DataFrame(mdict)\n",
    "\n",
    "sns.boxplot(x='period', y=metric, hue='period', data=df_combine)"
   ]
  },
  {
   "cell_type": "code",
   "execution_count": 578,
   "metadata": {},
   "outputs": [
    {
     "data": {
      "text/html": [
       "<div>\n",
       "<style scoped>\n",
       "    .dataframe tbody tr th:only-of-type {\n",
       "        vertical-align: middle;\n",
       "    }\n",
       "\n",
       "    .dataframe tbody tr th {\n",
       "        vertical-align: top;\n",
       "    }\n",
       "\n",
       "    .dataframe thead th {\n",
       "        text-align: right;\n",
       "    }\n",
       "</style>\n",
       "<table border=\"1\" class=\"dataframe\">\n",
       "  <thead>\n",
       "    <tr style=\"text-align: right;\">\n",
       "      <th></th>\n",
       "      <th>Date</th>\n",
       "      <th>Calories Burned</th>\n",
       "      <th>Steps</th>\n",
       "      <th>Distance</th>\n",
       "      <th>Floors</th>\n",
       "      <th>Minutes Sedentary</th>\n",
       "      <th>Minutes Lightly Active</th>\n",
       "      <th>Minutes Fairly Active</th>\n",
       "      <th>Minutes Very Active</th>\n",
       "      <th>Activity Calories</th>\n",
       "      <th>Day</th>\n",
       "    </tr>\n",
       "  </thead>\n",
       "  <tbody>\n",
       "    <tr>\n",
       "      <td>43</td>\n",
       "      <td>2020-02-13</td>\n",
       "      <td>2755</td>\n",
       "      <td>16459</td>\n",
       "      <td>11.44</td>\n",
       "      <td>0</td>\n",
       "      <td>740</td>\n",
       "      <td>305</td>\n",
       "      <td>46</td>\n",
       "      <td>46</td>\n",
       "      <td>740</td>\n",
       "      <td>Thursday</td>\n",
       "    </tr>\n",
       "    <tr>\n",
       "      <td>44</td>\n",
       "      <td>2020-02-14</td>\n",
       "      <td>2896</td>\n",
       "      <td>19163</td>\n",
       "      <td>13.43</td>\n",
       "      <td>0</td>\n",
       "      <td>495</td>\n",
       "      <td>342</td>\n",
       "      <td>70</td>\n",
       "      <td>21</td>\n",
       "      <td>495</td>\n",
       "      <td>Friday</td>\n",
       "    </tr>\n",
       "    <tr>\n",
       "      <td>47</td>\n",
       "      <td>2020-02-17</td>\n",
       "      <td>2229</td>\n",
       "      <td>9037</td>\n",
       "      <td>6.29</td>\n",
       "      <td>0</td>\n",
       "      <td>780</td>\n",
       "      <td>197</td>\n",
       "      <td>30</td>\n",
       "      <td>25</td>\n",
       "      <td>780</td>\n",
       "      <td>Monday</td>\n",
       "    </tr>\n",
       "    <tr>\n",
       "      <td>48</td>\n",
       "      <td>2020-02-18</td>\n",
       "      <td>2437</td>\n",
       "      <td>11677</td>\n",
       "      <td>8.24</td>\n",
       "      <td>0</td>\n",
       "      <td>759</td>\n",
       "      <td>295</td>\n",
       "      <td>16</td>\n",
       "      <td>14</td>\n",
       "      <td>759</td>\n",
       "      <td>Tuesday</td>\n",
       "    </tr>\n",
       "    <tr>\n",
       "      <td>49</td>\n",
       "      <td>2020-02-19</td>\n",
       "      <td>2330</td>\n",
       "      <td>9962</td>\n",
       "      <td>6.92</td>\n",
       "      <td>0</td>\n",
       "      <td>1133</td>\n",
       "      <td>281</td>\n",
       "      <td>16</td>\n",
       "      <td>10</td>\n",
       "      <td>1133</td>\n",
       "      <td>Wednesday</td>\n",
       "    </tr>\n",
       "  </tbody>\n",
       "</table>\n",
       "</div>"
      ],
      "text/plain": [
       "         Date  Calories Burned  Steps  Distance  Floors  Minutes Sedentary  \\\n",
       "43 2020-02-13             2755  16459     11.44       0                740   \n",
       "44 2020-02-14             2896  19163     13.43       0                495   \n",
       "47 2020-02-17             2229   9037      6.29       0                780   \n",
       "48 2020-02-18             2437  11677      8.24       0                759   \n",
       "49 2020-02-19             2330   9962      6.92       0               1133   \n",
       "\n",
       "    Minutes Lightly Active  Minutes Fairly Active  Minutes Very Active  \\\n",
       "43                     305                     46                   46   \n",
       "44                     342                     70                   21   \n",
       "47                     197                     30                   25   \n",
       "48                     295                     16                   14   \n",
       "49                     281                     16                   10   \n",
       "\n",
       "    Activity Calories        Day  \n",
       "43                740   Thursday  \n",
       "44                495     Friday  \n",
       "47                780     Monday  \n",
       "48                759    Tuesday  \n",
       "49               1133  Wednesday  "
      ]
     },
     "execution_count": 578,
     "metadata": {},
     "output_type": "execute_result"
    }
   ],
   "source": [
    "df_combine = pd.concat([df_exercise_preLockdown,df_exercise_postLockdown])\n",
    "df_combine.head()"
   ]
  },
  {
   "cell_type": "code",
   "execution_count": 579,
   "metadata": {},
   "outputs": [
    {
     "data": {
      "text/plain": [
       "Index(['Date', 'Calories Burned', 'Steps', 'Distance', 'Floors',\n",
       "       'Minutes Sedentary', 'Minutes Lightly Active', 'Minutes Fairly Active',\n",
       "       'Minutes Very Active', 'Activity Calories', 'Day'],\n",
       "      dtype='object')"
      ]
     },
     "execution_count": 579,
     "metadata": {},
     "output_type": "execute_result"
    }
   ],
   "source": [
    "df_combine.columns"
   ]
  },
  {
   "cell_type": "code",
   "execution_count": 580,
   "metadata": {},
   "outputs": [],
   "source": [
    "cols = ['Date','Calories Burned','Minutes Sedentary','Minutes Lightly Active','Minutes Fairly Active','Minutes Very Active']"
   ]
  },
  {
   "cell_type": "code",
   "execution_count": 581,
   "metadata": {},
   "outputs": [],
   "source": [
    "df_exer = df_combine[cols]\n",
    "df_exer.columns = ['Date','CaloriesBurned','MinutesSedentary',\n",
    "                                   'MinutesLightlyActive','MinutesFairlyActive','MinutesVeryActive']"
   ]
  },
  {
   "cell_type": "code",
   "execution_count": 582,
   "metadata": {},
   "outputs": [
    {
     "data": {
      "text/html": [
       "<div>\n",
       "<style scoped>\n",
       "    .dataframe tbody tr th:only-of-type {\n",
       "        vertical-align: middle;\n",
       "    }\n",
       "\n",
       "    .dataframe tbody tr th {\n",
       "        vertical-align: top;\n",
       "    }\n",
       "\n",
       "    .dataframe thead th {\n",
       "        text-align: right;\n",
       "    }\n",
       "</style>\n",
       "<table border=\"1\" class=\"dataframe\">\n",
       "  <thead>\n",
       "    <tr style=\"text-align: right;\">\n",
       "      <th></th>\n",
       "      <th>Date</th>\n",
       "      <th>CaloriesBurned</th>\n",
       "      <th>MinutesSedentary</th>\n",
       "      <th>MinutesLightlyActive</th>\n",
       "      <th>MinutesFairlyActive</th>\n",
       "      <th>MinutesVeryActive</th>\n",
       "    </tr>\n",
       "  </thead>\n",
       "  <tbody>\n",
       "    <tr>\n",
       "      <td>43</td>\n",
       "      <td>2020-02-13</td>\n",
       "      <td>2755</td>\n",
       "      <td>740</td>\n",
       "      <td>305</td>\n",
       "      <td>46</td>\n",
       "      <td>46</td>\n",
       "    </tr>\n",
       "    <tr>\n",
       "      <td>44</td>\n",
       "      <td>2020-02-14</td>\n",
       "      <td>2896</td>\n",
       "      <td>495</td>\n",
       "      <td>342</td>\n",
       "      <td>70</td>\n",
       "      <td>21</td>\n",
       "    </tr>\n",
       "    <tr>\n",
       "      <td>47</td>\n",
       "      <td>2020-02-17</td>\n",
       "      <td>2229</td>\n",
       "      <td>780</td>\n",
       "      <td>197</td>\n",
       "      <td>30</td>\n",
       "      <td>25</td>\n",
       "    </tr>\n",
       "    <tr>\n",
       "      <td>48</td>\n",
       "      <td>2020-02-18</td>\n",
       "      <td>2437</td>\n",
       "      <td>759</td>\n",
       "      <td>295</td>\n",
       "      <td>16</td>\n",
       "      <td>14</td>\n",
       "    </tr>\n",
       "    <tr>\n",
       "      <td>49</td>\n",
       "      <td>2020-02-19</td>\n",
       "      <td>2330</td>\n",
       "      <td>1133</td>\n",
       "      <td>281</td>\n",
       "      <td>16</td>\n",
       "      <td>10</td>\n",
       "    </tr>\n",
       "  </tbody>\n",
       "</table>\n",
       "</div>"
      ],
      "text/plain": [
       "         Date  CaloriesBurned  MinutesSedentary  MinutesLightlyActive  \\\n",
       "43 2020-02-13            2755               740                   305   \n",
       "44 2020-02-14            2896               495                   342   \n",
       "47 2020-02-17            2229               780                   197   \n",
       "48 2020-02-18            2437               759                   295   \n",
       "49 2020-02-19            2330              1133                   281   \n",
       "\n",
       "    MinutesFairlyActive  MinutesVeryActive  \n",
       "43                   46                 46  \n",
       "44                   70                 21  \n",
       "47                   30                 25  \n",
       "48                   16                 14  \n",
       "49                   16                 10  "
      ]
     },
     "execution_count": 582,
     "metadata": {},
     "output_type": "execute_result"
    }
   ],
   "source": [
    "df_exer.head()"
   ]
  },
  {
   "cell_type": "code",
   "execution_count": 583,
   "metadata": {},
   "outputs": [],
   "source": [
    "df_sleep = pd.concat([df_sleep_postLockdown,df_sleep_preLockdown])"
   ]
  },
  {
   "cell_type": "code",
   "execution_count": null,
   "metadata": {},
   "outputs": [],
   "source": []
  }
 ],
 "metadata": {
  "kernelspec": {
   "display_name": "Python 3",
   "language": "python",
   "name": "python3"
  },
  "language_info": {
   "codemirror_mode": {
    "name": "ipython",
    "version": 3
   },
   "file_extension": ".py",
   "mimetype": "text/x-python",
   "name": "python",
   "nbconvert_exporter": "python",
   "pygments_lexer": "ipython3",
   "version": "3.7.4"
  }
 },
 "nbformat": 4,
 "nbformat_minor": 2
}
